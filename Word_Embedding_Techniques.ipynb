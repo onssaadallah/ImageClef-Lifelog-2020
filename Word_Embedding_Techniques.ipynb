{
  "nbformat": 4,
  "nbformat_minor": 0,
  "metadata": {
    "colab": {
      "name": "Word_Embedding_Techniques.ipynb",
      "provenance": [],
      "collapsed_sections": [],
      "toc_visible": true,
      "mount_file_id": "1_YONmSr0ImsCCSlJlewP-yUH-z56KeMb",
      "authorship_tag": "ABX9TyP/m/XjhfUO+oQQ2KhvizjK",
      "include_colab_link": true
    },
    "kernelspec": {
      "name": "python3",
      "display_name": "Python 3"
    }
  },
  "cells": [
    {
      "cell_type": "markdown",
      "metadata": {
        "id": "view-in-github",
        "colab_type": "text"
      },
      "source": [
        "<a href=\"https://colab.research.google.com/github/onssaadallah/ImageClef-Lifelog-2020/blob/main/Word_Embedding_Techniques.ipynb\" target=\"_parent\"><img src=\"https://colab.research.google.com/assets/colab-badge.svg\" alt=\"Open In Colab\"/></a>"
      ]
    },
    {
      "cell_type": "markdown",
      "metadata": {
        "id": "cZh1PDNig1D3"
      },
      "source": [
        "# Implementation of word Embedding Techniques (GLOVE, Word2Vec,FastText) on textual Queries of the lifelog data (ImageClef competition)"
      ]
    },
    {
      "cell_type": "markdown",
      "metadata": {
        "id": "3-o7kgtbdxg0"
      },
      "source": [
        "\n",
        "\n",
        "```\n",
        "#We build the three models from scratch\n",
        "```\n",
        "\n"
      ]
    },
    {
      "cell_type": "markdown",
      "metadata": {
        "id": "w24IQu1yg90C"
      },
      "source": [
        "**Import Drive**"
      ]
    },
    {
      "cell_type": "code",
      "metadata": {
        "colab": {
          "base_uri": "https://localhost:8080/"
        },
        "id": "C5N1vqTvig36",
        "outputId": "a21fe6cb-1eef-4378-864a-775fb578ed82"
      },
      "source": [
        "from google.colab import drive\n",
        "drive.mount('/content/drive')"
      ],
      "execution_count": null,
      "outputs": [
        {
          "output_type": "stream",
          "text": [
            "Drive already mounted at /content/drive; to attempt to forcibly remount, call drive.mount(\"/content/drive\", force_remount=True).\n"
          ],
          "name": "stdout"
        }
      ]
    },
    {
      "cell_type": "markdown",
      "metadata": {
        "id": "CDfVyODFqdLS"
      },
      "source": [
        "**Install Packages**"
      ]
    },
    {
      "cell_type": "code",
      "metadata": {
        "colab": {
          "base_uri": "https://localhost:8080/"
        },
        "id": "aF8s4T3eqj2-",
        "outputId": "879dc45a-8f60-423b-b2a3-f4cf5aff5217"
      },
      "source": [
        "pip install glove-python"
      ],
      "execution_count": null,
      "outputs": [
        {
          "output_type": "stream",
          "text": [
            "Requirement already satisfied: glove-python in /usr/local/lib/python3.6/dist-packages (0.1.0)\n",
            "Requirement already satisfied: numpy in /usr/local/lib/python3.6/dist-packages (from glove-python) (1.18.5)\n",
            "Requirement already satisfied: scipy in /usr/local/lib/python3.6/dist-packages (from glove-python) (1.4.1)\n"
          ],
          "name": "stdout"
        }
      ]
    },
    {
      "cell_type": "code",
      "metadata": {
        "colab": {
          "base_uri": "https://localhost:8080/"
        },
        "id": "OmH2s7XWzmyH",
        "outputId": "e9804c91-8b0c-4725-e49f-bf41b9798250"
      },
      "source": [
        "!pip install  gensim"
      ],
      "execution_count": null,
      "outputs": [
        {
          "output_type": "stream",
          "text": [
            "Requirement already satisfied: gensim in /usr/local/lib/python3.6/dist-packages (3.6.0)\n",
            "Requirement already satisfied: six>=1.5.0 in /usr/local/lib/python3.6/dist-packages (from gensim) (1.15.0)\n",
            "Requirement already satisfied: numpy>=1.11.3 in /usr/local/lib/python3.6/dist-packages (from gensim) (1.18.5)\n",
            "Requirement already satisfied: smart-open>=1.2.1 in /usr/local/lib/python3.6/dist-packages (from gensim) (3.0.0)\n",
            "Requirement already satisfied: scipy>=0.18.1 in /usr/local/lib/python3.6/dist-packages (from gensim) (1.4.1)\n",
            "Requirement already satisfied: requests in /usr/local/lib/python3.6/dist-packages (from smart-open>=1.2.1->gensim) (2.23.0)\n",
            "Requirement already satisfied: idna<3,>=2.5 in /usr/local/lib/python3.6/dist-packages (from requests->smart-open>=1.2.1->gensim) (2.10)\n",
            "Requirement already satisfied: certifi>=2017.4.17 in /usr/local/lib/python3.6/dist-packages (from requests->smart-open>=1.2.1->gensim) (2020.6.20)\n",
            "Requirement already satisfied: urllib3!=1.25.0,!=1.25.1,<1.26,>=1.21.1 in /usr/local/lib/python3.6/dist-packages (from requests->smart-open>=1.2.1->gensim) (1.24.3)\n",
            "Requirement already satisfied: chardet<4,>=3.0.2 in /usr/local/lib/python3.6/dist-packages (from requests->smart-open>=1.2.1->gensim) (3.0.4)\n"
          ],
          "name": "stdout"
        }
      ]
    },
    {
      "cell_type": "markdown",
      "metadata": {
        "id": "KAmr1FkCim_V"
      },
      "source": [
        "**Import Packages**"
      ]
    },
    {
      "cell_type": "code",
      "metadata": {
        "colab": {
          "base_uri": "https://localhost:8080/"
        },
        "id": "3Auc85U1ijYZ",
        "outputId": "ce33cfc6-dc71-433a-f76b-ad35370e0d4f"
      },
      "source": [
        "import numpy as np\n",
        "\n",
        "import os\n",
        "import pickle\n",
        "import pandas as pd\n",
        "import nltk\n",
        "from nltk.corpus import stopwords\n",
        "from nltk.tokenize import TreebankWordTokenizer\n",
        "\n",
        "nltk.download('punkt')\n",
        "nltk.download('stopwords')\n",
        "tokenizer = TreebankWordTokenizer()\n",
        "\n",
        "stoplist = stopwords.words('english')\n"
      ],
      "execution_count": null,
      "outputs": [
        {
          "output_type": "stream",
          "text": [
            "[nltk_data] Downloading package punkt to /root/nltk_data...\n",
            "[nltk_data]   Package punkt is already up-to-date!\n",
            "[nltk_data] Downloading package stopwords to /root/nltk_data...\n",
            "[nltk_data]   Package stopwords is already up-to-date!\n"
          ],
          "name": "stdout"
        }
      ]
    },
    {
      "cell_type": "markdown",
      "metadata": {
        "id": "vZNYrCmnjAWK"
      },
      "source": [
        "**Load Dataset(Train set)**"
      ]
    },
    {
      "cell_type": "markdown",
      "metadata": {
        "id": "AgG_Q3vjrfGw"
      },
      "source": [
        "The dataset of the lifelog is a multimodal dataset that contains of 50days of data form a lifelogger(1,500-2500 per day from wearable cameras). The dataset also forms of metadata stored in XML file. the XML file presents the dataset of the textual queries that describe the different moments of life logger in the topic .So each topic of the data is divided into three parts which are Title(the title of the topic), Description (describe the specific moment of the topic) and, narrative (give more details about the topic)."
      ]
    },
    {
      "cell_type": "code",
      "metadata": {
        "colab": {
          "base_uri": "https://localhost:8080/"
        },
        "id": "VusEuw0lg9Mz",
        "outputId": "e47ddb48-5165-470f-f2f3-4261231b87b4"
      },
      "source": [
        "file = open(\"/content/drive/My Drive/Colab Notebooks/topic2020/topic2 (2).xml\")\n",
        "Data= file.read()\n",
        "print(Data)"
      ],
      "execution_count": null,
      "outputs": [
        {
          "output_type": "stream",
          "text": [
            "<?xml version=\"1.0\" encoding=\"UTF-8\"?> \n",
            "<topics>\n",
            "<topic>\n",
            "<topic>\n",
            "<id>001</id>\n",
            "<uid>u1</uid>\n",
            "<title>Having Beers in a Bar</title>\n",
            "<description>Find the moment in 2015 and 2016 when u1 enjoyed\n",
            "beers in the bar.</description>\n",
            "<narrative>To be considered relevant, u1 must be clearly in a\n",
            "bar. Any moments that u1 drinks beers at home or outside without\n",
            "the bar view are not considered relevant.</narrative>\n",
            "</topic>\n",
            "<topic>\n",
            "<id>002</id>\n",
            "<uid>u1</uid>\n",
            "<title>Building Personal Computer</title>\n",
            "<description>Find the moment when u1 built my personal\n",
            "computer from scratch.</description>\n",
            "<narrative>To be considered relevant, u1 must be clearly at\n",
            "the office with the PC parts on the table. Any moments that the u1\n",
            "is not in the office or there are no PC parts/uncompleted PCs on\n",
            "the table are not considered relevant.</narrative>\n",
            "</topic>\n",
            "<topic>\n",
            "<id>003</id>\n",
            "<uid>u1</uid>\n",
            "<title>In A Toy Shop</title>\n",
            "<description>Find the moment when u1 was looking at items in\n",
            "a toyshop.</description>\n",
            "<narrative>To be considered relevant, u1 must be clearly in a\n",
            "toyshop. Various toys are being examined, such as electronic\n",
            "trains, model kits and board games. Being in an electronics store,\n",
            "or a supermarket, are not considered to be relevant.</narrative>\n",
            "</topic>\n",
            "<topic>\n",
            "<id>004</id>\n",
            "<uid>u1</uid>\n",
            "<title>Television Recording</title>\n",
            "<description>Find the moments when u1 was being recorded for\n",
            "a television show.</description>\n",
            "<narrative>To be considered relevant, there must clearly be a\n",
            "television camera in front of u1. The moments the\n",
            "interviewer/cameramen is interviewing/recording u1 are also\n",
            "considered relevant. This can take place at home or in another\n",
            "location. All recording took place in one day and in more than one\n",
            "location.</narrative>\n",
            "</topic>\n",
            "<topic>\n",
            "<id>005</id>\n",
            "<uid>u1</uid>\n",
            "<title>Public Transport In Home Country</title>\n",
            "<description>Find the moments in 2015 and 2018 when u1 was\n",
            "using public transports in my home country\n",
            "(Ireland).</description>\n",
            "<narrative>Taking any form of public transport in Ireland is\n",
            "considered relevant, such as bus, taxi, train and boat. The\n",
            "moments that u1 is driving a car is not relevant</narrative>\n",
            "</topic>\n",
            "<topic>\n",
            "<id>006</id>\n",
            "<uid>u1</uid>\n",
            "<title>Seaside Moments</title>\n",
            "<description>Find moment(s) in which u1 was walking by the\n",
            "sea taking photos or eating ice cream.</description>\n",
            "<narrative>To be considered relevant, u1 must be taking a\n",
            "walk by the sea or eating ice cream and the sea is clearly\n",
            "visible. u1 must also be shown taking a photo with his/her camera\n",
            "phone or holding the ice cream cone at this time. On the beach or\n",
            "walking on a pier are both considered relevant once u1 is taking a\n",
            "photo or eating ice cream.</narrative>\n",
            "</topic>\n",
            "<topic>\n",
            "<id>007</id>\n",
            "<uid>u1</uid>\n",
            "<title>Grocery Stores</title>\n",
            "<description>Find moment(s) in 2016 and 2018 when u1 was\n",
            "grocery shopping on the weekends.</description>\n",
            "<narrative>To be considered relevant, u1 must be clearly in a\n",
            "grocery shop and buy something from it. Any moments on Saturdays\n",
            "and Sundays when u1 was in a grocery store and visibly interacting\n",
            "with products are also considered relevant.</narrative>\n",
            "</topic>\n",
            "<topic>\n",
            "<id>008</id>\n",
            "<uid>u1</uid>\n",
            "<title>Photograph of The Bridge</title>\n",
            "<description>Find the moment when u1 was taking a photo of a\n",
            "bridge.</description>\n",
            "<narrative>Moments when u1 was walking on a street without\n",
            "stopping to take a photo of a bridge are not relevant. Any other\n",
            "moment showing a bridge when a photo was not being taken are also\n",
            "not considered to be relevant.</narrative>\n",
            "</topic>\n",
            "<topic>\n",
            "<id>009</id>\n",
            "<uid>u1</uid>\n",
            "<title>Car Repair</title>\n",
            "<description>Find the moment when u1 was repairing his car in\n",
            "the garden.</description>\n",
            "<narrative>Moments when u1 was repairing his car in the\n",
            "garden with the gloves on his hand. Sometimes, he also held the\n",
            "hammer and his phone and these moments are also considered\n",
            "relevant. The moments when u1 was with the cars without showing\n",
            "repair action are not considered relevant.</narrative>\n",
            "</topic>\n",
            "<topic>\n",
            "<id>010</id>\n",
            "<uid>u1</uid>\n",
            "<title>Monsters</title>\n",
            "<description>Find the moment(s) when u1 was looking at an old\n",
            "clock, with flowers visible, with a small monster watching\n",
            "u1.</description>\n",
            "<narrative>Moments when u1 was at home, looking at an old\n",
            "clock, with flowers visible, with a lamp and perhaps two small\n",
            "monsters watching u1 are considered relevant. One of the monsters\n",
            "might be a long rabbit. The moments without one of the\n",
            "aforementioned conditions: monsters, flowers, and old clock are\n",
            "not considered relevant.</narrative>\n",
            "</topic>\n"
          ],
          "name": "stdout"
        }
      ]
    },
    {
      "cell_type": "markdown",
      "metadata": {
        "id": "qMJmP3RbyPw0"
      },
      "source": [
        "**Preprocessing**"
      ]
    },
    {
      "cell_type": "markdown",
      "metadata": {
        "id": "8kuttnOfhSrO"
      },
      "source": [
        "the data of queries structured in an XML file. So, I used the BeautifulSoup  Python library to parse the script of the XML to the text file then I clean the text by using an nltk pre-processing techniques(i.e. natural language talking nltk is a python library used for the pre-processing the text ). \n",
        "I use the predefined stopwords list of nltk and I add a list of non-useful words. The objective of the preprocessing is to reduce the number of noisy words (noisy words are words that don’t have any relation with the topic )\n",
        "\n",
        "\n",
        "\n"
      ]
    },
    {
      "cell_type": "markdown",
      "metadata": {
        "id": "uVdevmc5mrb6"
      },
      "source": [
        "**Parsing the XML data to text file**"
      ]
    },
    {
      "cell_type": "code",
      "metadata": {
        "colab": {
          "base_uri": "https://localhost:8080/"
        },
        "id": "gQUcsF-3g75j",
        "outputId": "7d1c29fa-34d8-4bb5-cd97-4e3513f76c5d"
      },
      "source": [
        "from bs4 import BeautifulSoup\n",
        "import lxml\n",
        "\n",
        "file = open(\"/content/drive/MyDrive/Colab Notebooks/PFA /Data.xml\")\n",
        "page = file.read()\n",
        "\n",
        "soup = BeautifulSoup(page, features=\"lxml\")\n",
        "dataset=soup.get_text()\n",
        "print(dataset)\n",
        "h = open(\"/content/drive/MyDrive/Colab Notebooks/PFA /text.txt\", \"w\")\n",
        "\n",
        "for line in soup:\n",
        "    h.write(soup.get_text())\n",
        "h.close()\n"
      ],
      "execution_count": null,
      "outputs": [
        {
          "output_type": "stream",
          "text": [
            "\n",
            "\n",
            "\n",
            "001\n",
            "u1\n",
            "Having Beers in a Bar\n",
            "Find the moment in 2015 and 2016 when u1 enjoyed\n",
            "beers in the bar.\n",
            "To be considered relevant, u1 must be clearly in a\n",
            "bar. Any moments that u1 drinks beers at home or outside without\n",
            "the bar view are not considered relevant.\n",
            "\n",
            "\n",
            "002\n",
            "u1\n",
            "Building Personal Computer\n",
            "Find the moment when u1 built my personal\n",
            "computer from scratch.\n",
            "To be considered relevant, u1 must be clearly at\n",
            "the office with the PC parts on the table. Any moments that the u1\n",
            "is not in the office or there are no PC parts/uncompleted PCs on\n",
            "the table are not considered relevant.\n",
            "\n",
            "\n",
            "003\n",
            "u1\n",
            "In A Toy Shop\n",
            "Find the moment when u1 was looking at items in\n",
            "a toyshop.\n",
            "To be considered relevant, u1 must be clearly in a\n",
            "toyshop. Various toys are being examined, such as electronic\n",
            "trains, model kits and board games. Being in an electronics store,\n",
            "or a supermarket, are not considered to be relevant.\n",
            "\n",
            "\n",
            "004\n",
            "u1\n",
            "Television Recording\n",
            "Find the moments when u1 was being recorded for\n",
            "a television show.\n",
            "To be considered relevant, there must clearly be a\n",
            "television camera in front of u1. The moments the\n",
            "interviewer/cameramen is interviewing/recording u1 are also\n",
            "considered relevant. This can take place at home or in another\n",
            "location. All recording took place in one day and in more than one\n",
            "location.\n",
            "\n",
            "\n",
            "005\n",
            "u1\n",
            "Public Transport In Home Country\n",
            "Find the moments in 2015 and 2018 when u1 was\n",
            "using public transports in my home country\n",
            "(Ireland).\n",
            "Taking any form of public transport in Ireland is\n",
            "considered relevant, such as bus, taxi, train and boat. The\n",
            "moments that u1 is driving a car is not relevant\n",
            "\n",
            "\n",
            "006\n",
            "u1\n",
            "Seaside Moments\n",
            "Find moment(s) in which u1 was walking by the\n",
            "sea taking photos or eating ice cream.\n",
            "To be considered relevant, u1 must be taking a\n",
            "walk by the sea or eating ice cream and the sea is clearly\n",
            "visible. u1 must also be shown taking a photo with his/her camera\n",
            "phone or holding the ice cream cone at this time. On the beach or\n",
            "walking on a pier are both considered relevant once u1 is taking a\n",
            "photo or eating ice cream.\n",
            "\n",
            "\n",
            "007\n",
            "u1\n",
            "Grocery Stores\n",
            "Find moment(s) in 2016 and 2018 when u1 was\n",
            "grocery shopping on the weekends.\n",
            "To be considered relevant, u1 must be clearly in a\n",
            "grocery shop and buy something from it. Any moments on Saturdays\n",
            "and Sundays when u1 was in a grocery store and visibly interacting\n",
            "with products are also considered relevant.\n",
            "\n",
            "\n",
            "008\n",
            "u1\n",
            "Photograph of The Bridge\n",
            "Find the moment when u1 was taking a photo of a\n",
            "bridge.\n",
            "Moments when u1 was walking on a street without\n",
            "stopping to take a photo of a bridge are not relevant. Any other\n",
            "moment showing a bridge when a photo was not being taken are also\n",
            "not considered to be relevant.\n",
            "\n",
            "\n",
            "009\n",
            "u1\n",
            "Car Repair\n",
            "Find the moment when u1 was repairing his car in\n",
            "the garden.\n",
            "Moments when u1 was repairing his car in the\n",
            "garden with the gloves on his hand. Sometimes, he also held the\n",
            "hammer and his phone and these moments are also considered\n",
            "relevant. The moments when u1 was with the cars without showing\n",
            "repair action are not considered relevant.\n",
            "\n",
            "\n",
            "010\n",
            "u1\n",
            "Monsters\n",
            "Find the moment(s) when u1 was looking at an old\n",
            "clock, with flowers visible, with a small monster watching\n",
            "u1.\n",
            "Moments when u1 was at home, looking at an old\n",
            "clock, with flowers visible, with a lamp and perhaps two small\n",
            "monsters watching u1 are considered relevant. One of the monsters\n",
            "might be a long rabbit. The moments without one of the\n",
            "aforementioned conditions: monsters, flowers, and old clock are\n",
            "not considered relevant.\n",
            "\n"
          ],
          "name": "stdout"
        }
      ]
    },
    {
      "cell_type": "code",
      "metadata": {
        "colab": {
          "base_uri": "https://localhost:8080/"
        },
        "id": "g5i6CkTXndDw",
        "outputId": "53fc4aa9-5701-454e-df8f-fb95246b3e24"
      },
      "source": [
        "#cleaning the text\n",
        "stoplist = stopwords.words('english')\n",
        "\n",
        "__query_typical_tokens__ = [\n",
        "     \"considered\",\"relevant\",\"to\",\"also\",\"must\",\"without\",\"it\",\"In\",\"clearly\",\"visible\",\"another\",\"perhaps\",\"long\", \"might\",\n",
        "      \"two\",\"a\",\"outside\",\"view\",\"home\",\"uncompleted\",\"electronics store\",\"supermarket\",\"driving a car\",\"cars\",\"any\",\n",
        "      \"all\",\"a\",\"in\",\"show\",\"his/her\",\"her\",\"a\",\"one\",\"from\",\"the\",\"moments\",\"Any\",\"examined\",\"To\",\"various\",\"The\",\"moment\",\n",
        "      \"visibly\",\"Find\",\"u1\",\"From\",\"it\",\n",
        "    \"001\",\"002\",\"003\",\"004\",\"005\",\"006\",\"007\",\"008\",\"009\",\"010\"\n",
        "    \n",
        "\n",
        "]\n",
        "remove_word=[\"in\",\"a\",\"was\",\"the\",\"and\",\"my\",\"at\",\"for\",\"when\",\"from\",\"which\",\"being\",\"s\",\"or\",\"by\",\"on\",\"On\",\"to\",\"any\",\"considered\",\n",
        "      \"relevant,\",\"relevant\",\"relevant.\",\"aforementioned\",\"conditions\",\"parts/uncompleted\",\"various\",\"supermarket\"]\n",
        "\n",
        "additional_stopwords2 = [\"relevant\"]\n",
        "additional_stopwords=additional_stopwords2\n",
        "stoplist =stoplist + __query_typical_tokens__+additional_stopwords2+remove_word\n",
        "line=\"  \"\n",
        "file = open('/content/drive/MyDrive/Colab Notebooks/PFA /text.txt')\n",
        "\n",
        "\n",
        "text = file.read()\n",
        "for word in text.split():\n",
        "    if word not in stoplist and remove_word:\n",
        "      \n",
        "        line+=word+\" \"\n",
        "        \n",
        "   \n",
        "        \n",
        "line = line.lower()    \n",
        "print(line)\n"
      ],
      "execution_count": null,
      "outputs": [
        {
          "output_type": "stream",
          "text": [
            "  having beers bar 2015 2016 enjoyed beers bar. bar. drinks beers bar building personal computer built personal computer scratch. office pc parts table. office pc pcs table a toy shop looking items toyshop. toyshop. various toys examined, electronic trains, model kits board games. being electronics store, supermarket, television recording recorded television show. television camera front u1. interviewer/cameramen interviewing/recording this take place location. all recording took place day location. public transport home country 2015 2018 using public transports country (ireland). taking form public transport ireland bus, taxi, train boat. driving car seaside moments moment(s) walking sea taking photos eating ice cream. taking walk sea eating ice cream sea visible. shown taking photo camera phone holding ice cream cone time. beach walking pier taking photo eating ice cream. grocery stores moment(s) 2016 2018 grocery shopping weekends. grocery shop buy something it. saturdays sundays grocery store interacting products photograph bridge taking photo bridge. moments walking street stopping take photo bridge showing bridge photo taken car repair repairing car garden. moments repairing car garden gloves hand. sometimes, held hammer phone showing repair action monsters moment(s) looking old clock, flowers visible, small monster watching u1. moments home, looking old clock, flowers visible, lamp small monsters watching one monsters rabbit. conditions: monsters, flowers, old clock having beers bar 2015 2016 enjoyed beers bar. bar. drinks beers bar building personal computer built personal computer scratch. office pc parts table. office pc pcs table a toy shop looking items toyshop. toyshop. various toys examined, electronic trains, model kits board games. being electronics store, supermarket, television recording recorded television show. television camera front u1. interviewer/cameramen interviewing/recording this take place location. all recording took place day location. public transport home country 2015 2018 using public transports country (ireland). taking form public transport ireland bus, taxi, train boat. driving car seaside moments moment(s) walking sea taking photos eating ice cream. taking walk sea eating ice cream sea visible. shown taking photo camera phone holding ice cream cone time. beach walking pier taking photo eating ice cream. grocery stores moment(s) 2016 2018 grocery shopping weekends. grocery shop buy something it. saturdays sundays grocery store interacting products photograph bridge taking photo bridge. moments walking street stopping take photo bridge showing bridge photo taken car repair repairing car garden. moments repairing car garden gloves hand. sometimes, held hammer phone showing repair action monsters moment(s) looking old clock, flowers visible, small monster watching u1. moments home, looking old clock, flowers visible, lamp small monsters watching one monsters rabbit. conditions: monsters, flowers, old clock \n"
          ],
          "name": "stdout"
        }
      ]
    },
    {
      "cell_type": "code",
      "metadata": {
        "colab": {
          "base_uri": "https://localhost:8080/"
        },
        "id": "aqrD_bjkp-__",
        "outputId": "31f99462-9e17-4825-b309-79a9ad485f11"
      },
      "source": [
        "\n",
        "#build list for each topic \n",
        "import re \n",
        "# remove parenthesis \n",
        "input_text_noparens = re.sub(r'\\([^)]*\\)', '', line)\n",
        "# store as list of sentences\n",
        "sentences_strings_ted = []\n",
        "for line in input_text_noparens.split('\\n'):\n",
        "    m = re.match(r'^(?:(?P<precolon>[^:]{,20}):)?(?P<postcolon>.*)$', line)\n",
        "    sentences_strings_ted.extend(sent for sent in m.groupdict()['postcolon'].split('.') if sent)\n",
        "# store as list of lists of words\n",
        "sentences_ted = []\n",
        "for sent_str in sentences_strings_ted:\n",
        "    tokens = re.sub(r\"[^a-z0-9]+\", \" \", sent_str.lower()).split()\n",
        "    sentences_ted.append(tokens)\n",
        "\n",
        "\n",
        "print(sentences_ted)\n",
        "len(sentences_ted)"
      ],
      "execution_count": null,
      "outputs": [
        {
          "output_type": "stream",
          "text": [
            "[['having', 'beers', 'bar', '2015', '2016', 'enjoyed', 'beers', 'bar'], ['bar'], ['drinks', 'beers', 'bar', 'building', 'personal', 'computer', 'built', 'personal', 'computer', 'scratch'], ['office', 'pc', 'parts', 'table'], ['office', 'pc', 'pcs', 'table', 'a', 'toy', 'shop', 'looking', 'items', 'toyshop'], ['toyshop'], ['various', 'toys', 'examined', 'electronic', 'trains', 'model', 'kits', 'board', 'games'], ['being', 'electronics', 'store', 'supermarket', 'television', 'recording', 'recorded', 'television', 'show'], ['television', 'camera', 'front', 'u1'], ['interviewer', 'cameramen', 'interviewing', 'recording', 'this', 'take', 'place', 'location'], ['all', 'recording', 'took', 'place', 'day', 'location'], ['public', 'transport', 'home', 'country', '2015', '2018', 'using', 'public', 'transports', 'country'], ['taking', 'form', 'public', 'transport', 'ireland', 'bus', 'taxi', 'train', 'boat'], ['driving', 'car', 'seaside', 'moments', 'moment', 'walking', 'sea', 'taking', 'photos', 'eating', 'ice', 'cream'], ['taking', 'walk', 'sea', 'eating', 'ice', 'cream', 'sea', 'visible'], ['shown', 'taking', 'photo', 'camera', 'phone', 'holding', 'ice', 'cream', 'cone', 'time'], ['beach', 'walking', 'pier', 'taking', 'photo', 'eating', 'ice', 'cream'], ['grocery', 'stores', 'moment', '2016', '2018', 'grocery', 'shopping', 'weekends'], ['grocery', 'shop', 'buy', 'something', 'it'], ['saturdays', 'sundays', 'grocery', 'store', 'interacting', 'products', 'photograph', 'bridge', 'taking', 'photo', 'bridge'], ['moments', 'walking', 'street', 'stopping', 'take', 'photo', 'bridge', 'showing', 'bridge', 'photo', 'taken', 'car', 'repair', 'repairing', 'car', 'garden'], ['moments', 'repairing', 'car', 'garden', 'gloves', 'hand'], ['sometimes', 'held', 'hammer', 'phone', 'showing', 'repair', 'action', 'monsters', 'moment', 'looking', 'old', 'clock', 'flowers', 'visible', 'small', 'monster', 'watching', 'u1'], ['moments', 'home', 'looking', 'old', 'clock', 'flowers', 'visible', 'lamp', 'small', 'monsters', 'watching', 'one', 'monsters', 'rabbit'], ['conditions', 'monsters', 'flowers', 'old', 'clock', 'having', 'beers', 'bar', '2015', '2016', 'enjoyed', 'beers', 'bar'], ['bar'], ['drinks', 'beers', 'bar', 'building', 'personal', 'computer', 'built', 'personal', 'computer', 'scratch'], ['office', 'pc', 'parts', 'table'], ['office', 'pc', 'pcs', 'table', 'a', 'toy', 'shop', 'looking', 'items', 'toyshop'], ['toyshop'], ['various', 'toys', 'examined', 'electronic', 'trains', 'model', 'kits', 'board', 'games'], ['being', 'electronics', 'store', 'supermarket', 'television', 'recording', 'recorded', 'television', 'show'], ['television', 'camera', 'front', 'u1'], ['interviewer', 'cameramen', 'interviewing', 'recording', 'this', 'take', 'place', 'location'], ['all', 'recording', 'took', 'place', 'day', 'location'], ['public', 'transport', 'home', 'country', '2015', '2018', 'using', 'public', 'transports', 'country'], ['taking', 'form', 'public', 'transport', 'ireland', 'bus', 'taxi', 'train', 'boat'], ['driving', 'car', 'seaside', 'moments', 'moment', 'walking', 'sea', 'taking', 'photos', 'eating', 'ice', 'cream'], ['taking', 'walk', 'sea', 'eating', 'ice', 'cream', 'sea', 'visible'], ['shown', 'taking', 'photo', 'camera', 'phone', 'holding', 'ice', 'cream', 'cone', 'time'], ['beach', 'walking', 'pier', 'taking', 'photo', 'eating', 'ice', 'cream'], ['grocery', 'stores', 'moment', '2016', '2018', 'grocery', 'shopping', 'weekends'], ['grocery', 'shop', 'buy', 'something', 'it'], ['saturdays', 'sundays', 'grocery', 'store', 'interacting', 'products', 'photograph', 'bridge', 'taking', 'photo', 'bridge'], ['moments', 'walking', 'street', 'stopping', 'take', 'photo', 'bridge', 'showing', 'bridge', 'photo', 'taken', 'car', 'repair', 'repairing', 'car', 'garden'], ['moments', 'repairing', 'car', 'garden', 'gloves', 'hand'], ['sometimes', 'held', 'hammer', 'phone', 'showing', 'repair', 'action', 'monsters', 'moment', 'looking', 'old', 'clock', 'flowers', 'visible', 'small', 'monster', 'watching', 'u1'], ['moments', 'home', 'looking', 'old', 'clock', 'flowers', 'visible', 'lamp', 'small', 'monsters', 'watching', 'one', 'monsters', 'rabbit'], ['conditions', 'monsters', 'flowers', 'old', 'clock']]\n"
          ],
          "name": "stdout"
        },
        {
          "output_type": "execute_result",
          "data": {
            "text/plain": [
              "49"
            ]
          },
          "metadata": {
            "tags": []
          },
          "execution_count": 486
        }
      ]
    },
    {
      "cell_type": "markdown",
      "metadata": {
        "id": "XIJSD3kAry5u"
      },
      "source": [
        "# Implementation of the Glove Model"
      ]
    },
    {
      "cell_type": "code",
      "metadata": {
        "colab": {
          "base_uri": "https://localhost:8080/"
        },
        "id": "sKrcCdNcsEuO",
        "outputId": "0826f2ea-ac38-4f83-e9c9-5f7151a5e0b9"
      },
      "source": [
        "import itertools\n",
        "import glove\n",
        "from glove import Corpus\n",
        "import numpy as np\n",
        "glove_corpus1= glove.Corpus()\n",
        "glove_corpus1.fit(sentences_ted,window=10)\n",
        "mat=glove_corpus1.matrix\n",
        "dic=glove_corpus1.dictionary\n",
        "print(len(dic))\n",
        "print(dic)\n"
      ],
      "execution_count": null,
      "outputs": [
        {
          "output_type": "stream",
          "text": [
            "125\n",
            "{'having': 0, 'beers': 1, 'bar': 2, '2015': 3, '2016': 4, 'enjoyed': 5, 'drinks': 6, 'building': 7, 'personal': 8, 'computer': 9, 'built': 10, 'scratch': 11, 'office': 12, 'pc': 13, 'parts': 14, 'table': 15, 'pcs': 16, 'a': 17, 'toy': 18, 'shop': 19, 'looking': 20, 'items': 21, 'toyshop': 22, 'various': 23, 'toys': 24, 'examined': 25, 'electronic': 26, 'trains': 27, 'model': 28, 'kits': 29, 'board': 30, 'games': 31, 'being': 32, 'electronics': 33, 'store': 34, 'supermarket': 35, 'television': 36, 'recording': 37, 'recorded': 38, 'show': 39, 'camera': 40, 'front': 41, 'u1': 42, 'interviewer': 43, 'cameramen': 44, 'interviewing': 45, 'this': 46, 'take': 47, 'place': 48, 'location': 49, 'all': 50, 'took': 51, 'day': 52, 'public': 53, 'transport': 54, 'home': 55, 'country': 56, '2018': 57, 'using': 58, 'transports': 59, 'taking': 60, 'form': 61, 'ireland': 62, 'bus': 63, 'taxi': 64, 'train': 65, 'boat': 66, 'driving': 67, 'car': 68, 'seaside': 69, 'moments': 70, 'moment': 71, 'walking': 72, 'sea': 73, 'photos': 74, 'eating': 75, 'ice': 76, 'cream': 77, 'walk': 78, 'visible': 79, 'shown': 80, 'photo': 81, 'phone': 82, 'holding': 83, 'cone': 84, 'time': 85, 'beach': 86, 'pier': 87, 'grocery': 88, 'stores': 89, 'shopping': 90, 'weekends': 91, 'buy': 92, 'something': 93, 'it': 94, 'saturdays': 95, 'sundays': 96, 'interacting': 97, 'products': 98, 'photograph': 99, 'bridge': 100, 'street': 101, 'stopping': 102, 'showing': 103, 'taken': 104, 'repair': 105, 'repairing': 106, 'garden': 107, 'gloves': 108, 'hand': 109, 'sometimes': 110, 'held': 111, 'hammer': 112, 'action': 113, 'monsters': 114, 'old': 115, 'clock': 116, 'flowers': 117, 'small': 118, 'monster': 119, 'watching': 120, 'lamp': 121, 'one': 122, 'rabbit': 123, 'conditions': 124}\n"
          ],
          "name": "stdout"
        }
      ]
    },
    {
      "cell_type": "markdown",
      "metadata": {
        "id": "JIGbx8ObsTGF"
      },
      "source": [
        "**Intialize and fit the model**"
      ]
    },
    {
      "cell_type": "code",
      "metadata": {
        "colab": {
          "base_uri": "https://localhost:8080/"
        },
        "id": "jpiOeNpwsMmK",
        "outputId": "3430f119-5bd3-40f0-b6fe-aeed538b5e0b"
      },
      "source": [
        "%%time\n",
        "EMBEDDING_DIM=100\n",
        "word_embedding = glove.Glove(no_components=100, learning_rate=0.05)\n",
        "print(word_embedding)\n",
        "glove_threads =4\n",
        "word_embedding.fit(mat, epochs=200, no_threads=glove_threads, verbose=0\n",
        ")\n",
        "# Add the word -> id dictionary to the model to allow similarity queries.\n",
        "word_embedding.add_dictionary(dic)\n"
      ],
      "execution_count": null,
      "outputs": [
        {
          "output_type": "stream",
          "text": [
            "<glove.glove.Glove object at 0x7feba8976cc0>\n",
            "CPU times: user 532 ms, sys: 9.85 ms, total: 542 ms\n",
            "Wall time: 299 ms\n"
          ],
          "name": "stdout"
        }
      ]
    },
    {
      "cell_type": "code",
      "metadata": {
        "id": "050mmcTPs3hF"
      },
      "source": [
        "#saving the model\n",
        "model_g=word_embedding.save('/content/drive/MyDrive/Colab Notebooks/PFA /glove20.model')"
      ],
      "execution_count": null,
      "outputs": []
    },
    {
      "cell_type": "code",
      "metadata": {
        "colab": {
          "base_uri": "https://localhost:8080/"
        },
        "id": "JYbQXKyItCnF",
        "outputId": "298d05d2-5054-48e6-fbb5-366af5471fb9"
      },
      "source": [
        "#load model and return all the words in model dictionary\n",
        "model=word_embedding.load('/content/drive/MyDrive/Colab Notebooks/PFA /glove20.model')\n",
        "\n",
        "print(model.dictionary)"
      ],
      "execution_count": null,
      "outputs": [
        {
          "output_type": "stream",
          "text": [
            "{'having': 0, 'beers': 1, 'bar': 2, '2015': 3, '2016': 4, 'enjoyed': 5, 'drinks': 6, 'building': 7, 'personal': 8, 'computer': 9, 'built': 10, 'scratch': 11, 'office': 12, 'pc': 13, 'parts': 14, 'table': 15, 'pcs': 16, 'a': 17, 'toy': 18, 'shop': 19, 'looking': 20, 'items': 21, 'toyshop': 22, 'various': 23, 'toys': 24, 'examined': 25, 'electronic': 26, 'trains': 27, 'model': 28, 'kits': 29, 'board': 30, 'games': 31, 'being': 32, 'electronics': 33, 'store': 34, 'supermarket': 35, 'television': 36, 'recording': 37, 'recorded': 38, 'show': 39, 'camera': 40, 'front': 41, 'u1': 42, 'interviewer': 43, 'cameramen': 44, 'interviewing': 45, 'this': 46, 'take': 47, 'place': 48, 'location': 49, 'all': 50, 'took': 51, 'day': 52, 'public': 53, 'transport': 54, 'home': 55, 'country': 56, '2018': 57, 'using': 58, 'transports': 59, 'taking': 60, 'form': 61, 'ireland': 62, 'bus': 63, 'taxi': 64, 'train': 65, 'boat': 66, 'driving': 67, 'car': 68, 'seaside': 69, 'moments': 70, 'moment': 71, 'walking': 72, 'sea': 73, 'photos': 74, 'eating': 75, 'ice': 76, 'cream': 77, 'walk': 78, 'visible': 79, 'shown': 80, 'photo': 81, 'phone': 82, 'holding': 83, 'cone': 84, 'time': 85, 'beach': 86, 'pier': 87, 'grocery': 88, 'stores': 89, 'shopping': 90, 'weekends': 91, 'buy': 92, 'something': 93, 'it': 94, 'saturdays': 95, 'sundays': 96, 'interacting': 97, 'products': 98, 'photograph': 99, 'bridge': 100, 'street': 101, 'stopping': 102, 'showing': 103, 'taken': 104, 'repair': 105, 'repairing': 106, 'garden': 107, 'gloves': 108, 'hand': 109, 'sometimes': 110, 'held': 111, 'hammer': 112, 'action': 113, 'monsters': 114, 'old': 115, 'clock': 116, 'flowers': 117, 'small': 118, 'monster': 119, 'watching': 120, 'lamp': 121, 'one': 122, 'rabbit': 123, 'conditions': 124}\n"
          ],
          "name": "stdout"
        }
      ]
    },
    {
      "cell_type": "markdown",
      "metadata": {
        "id": "UzyAf23qtg95"
      },
      "source": [
        "**Similarty test**"
      ]
    },
    {
      "cell_type": "code",
      "metadata": {
        "colab": {
          "base_uri": "https://localhost:8080/"
        },
        "id": "VjWJgFhPuKcV",
        "outputId": "6db9f3a1-c28d-4db5-cc17-636678deecd1"
      },
      "source": [
        "model.most_similar('bar')"
      ],
      "execution_count": null,
      "outputs": [
        {
          "output_type": "execute_result",
          "data": {
            "text/plain": [
              "[('beers', 0.9964726985255468),\n",
              " ('enjoyed', 0.8784201243077132),\n",
              " ('2015', 0.8268385555814238),\n",
              " ('building', 0.8156728662860439)]"
            ]
          },
          "metadata": {
            "tags": []
          },
          "execution_count": 491
        }
      ]
    },
    {
      "cell_type": "code",
      "metadata": {
        "colab": {
          "base_uri": "https://localhost:8080/"
        },
        "id": "Tg520E2NtUDt",
        "outputId": "f287a208-46ad-47e8-c7a6-18b3adf13142"
      },
      "source": [
        "model.most_similar('computer')"
      ],
      "execution_count": null,
      "outputs": [
        {
          "output_type": "execute_result",
          "data": {
            "text/plain": [
              "[('personal', 0.9905293027051343),\n",
              " ('built', 0.9223566709041979),\n",
              " ('scratch', 0.9029205203832369),\n",
              " ('conditions', 0.6680230045147385)]"
            ]
          },
          "metadata": {
            "tags": []
          },
          "execution_count": 492
        }
      ]
    },
    {
      "cell_type": "code",
      "metadata": {
        "colab": {
          "base_uri": "https://localhost:8080/"
        },
        "id": "JIoOEJsPulzG",
        "outputId": "f05422a4-921a-4fbd-ac53-f7994b1e9cc3"
      },
      "source": [
        "model.most_similar('toyshop')"
      ],
      "execution_count": null,
      "outputs": [
        {
          "output_type": "execute_result",
          "data": {
            "text/plain": [
              "[('items', 0.6443526826329873),\n",
              " ('all', 0.21491534387088593),\n",
              " ('built', 0.1867476952387035),\n",
              " ('using', 0.1823048664741063)]"
            ]
          },
          "metadata": {
            "tags": []
          },
          "execution_count": 493
        }
      ]
    },
    {
      "cell_type": "code",
      "metadata": {
        "colab": {
          "base_uri": "https://localhost:8080/"
        },
        "id": "ME57vPF7uy62",
        "outputId": "b579e7b6-3aab-4f6e-9314-60fb3bfddd0a"
      },
      "source": [
        "model.most_similar('old')"
      ],
      "execution_count": null,
      "outputs": [
        {
          "output_type": "execute_result",
          "data": {
            "text/plain": [
              "[('clock', 0.983920577777428),\n",
              " ('flowers', 0.9674060087445228),\n",
              " ('looking', 0.8737650791677695),\n",
              " ('visible', 0.7902951652748454)]"
            ]
          },
          "metadata": {
            "tags": []
          },
          "execution_count": 494
        }
      ]
    },
    {
      "cell_type": "code",
      "metadata": {
        "colab": {
          "base_uri": "https://localhost:8080/"
        },
        "id": "3yCUsaQAvSRt",
        "outputId": "2c85e823-7f8c-489b-fb28-6d2400f1b3a1"
      },
      "source": [
        "model.most_similar('interviewing')"
      ],
      "execution_count": null,
      "outputs": [
        {
          "output_type": "execute_result",
          "data": {
            "text/plain": [
              "[('cameramen', 0.7808152826259098),\n",
              " ('recording', 0.4443905170996414),\n",
              " ('all', 0.42219185350310245),\n",
              " ('took', 0.25430267334811907)]"
            ]
          },
          "metadata": {
            "tags": []
          },
          "execution_count": 495
        }
      ]
    },
    {
      "cell_type": "code",
      "metadata": {
        "colab": {
          "base_uri": "https://localhost:8080/"
        },
        "id": "0dm7OiCqvmmk",
        "outputId": "bcd55c93-00bb-45b9-e0ab-a7fe8d05441b"
      },
      "source": [
        "model.most_similar('car')"
      ],
      "execution_count": null,
      "outputs": [
        {
          "output_type": "execute_result",
          "data": {
            "text/plain": [
              "[('repairing', 0.9343687712643992),\n",
              " ('garden', 0.903394784754314),\n",
              " ('driving', 0.874430250509356),\n",
              " ('seaside', 0.8191558815747975)]"
            ]
          },
          "metadata": {
            "tags": []
          },
          "execution_count": 496
        }
      ]
    },
    {
      "cell_type": "markdown",
      "metadata": {
        "id": "SOOvRy2kvvwc"
      },
      "source": [
        "**get word vector**"
      ]
    },
    {
      "cell_type": "code",
      "metadata": {
        "id": "W5QdB8Q1v6JE"
      },
      "source": [
        "def get_embedding_vec(word):\n",
        "    idx = word_embedding.dictionary.get(word.lower(), -1)\n",
        "    if idx<0:\n",
        "        #print(\"Missing word : '%s'\" % (word,))\n",
        "        return np.zeros(  (EMBEDDING_DIM, ), dtype='float32')  # UNK\n",
        "    return word_embedding.word_vectors[idx]\n"
      ],
      "execution_count": null,
      "outputs": []
    },
    {
      "cell_type": "code",
      "metadata": {
        "colab": {
          "base_uri": "https://localhost:8080/"
        },
        "id": "8iLrUQNtwWYz",
        "outputId": "27535e07-4249-411f-a5c7-3042cfb9b716"
      },
      "source": [
        "get_embedding_vec('beers')"
      ],
      "execution_count": null,
      "outputs": [
        {
          "output_type": "execute_result",
          "data": {
            "text/plain": [
              "array([-8.10693410e-05, -1.85190868e-02,  6.14944734e-03, -3.66470803e-02,\n",
              "        1.15959031e-02, -2.27763745e-02,  2.23189388e-02,  1.53528207e-02,\n",
              "       -1.24553019e-03, -1.90041743e-02,  2.65357927e-02,  5.44011303e-02,\n",
              "        1.19468663e-02, -1.85166954e-02,  3.42554253e-02, -4.83139437e-02,\n",
              "       -3.53106713e-02, -1.80923385e-02, -4.06419115e-02, -4.31360703e-02,\n",
              "        8.59838479e-02,  4.26434632e-02, -2.91137060e-02, -1.45958243e-02,\n",
              "       -1.40337971e-02, -1.45274598e-02,  6.17821918e-03, -3.72708479e-02,\n",
              "        5.42664424e-02,  3.14384578e-02, -3.76972558e-02,  6.30979518e-02,\n",
              "       -3.21069001e-03, -1.12312956e-02,  6.99888086e-02, -3.50529581e-02,\n",
              "        9.87440455e-03, -2.26443541e-02,  1.90332885e-02, -2.88539252e-02,\n",
              "        9.11669097e-03, -8.49142066e-03,  3.03168582e-02, -2.05906956e-02,\n",
              "       -1.03249370e-02,  2.12434861e-02, -2.19591327e-02,  2.81699807e-02,\n",
              "       -5.11249915e-02, -5.56572006e-03, -2.22745003e-02, -2.97538467e-03,\n",
              "        6.10798383e-03, -6.34240182e-03, -5.46751530e-02,  3.46982027e-02,\n",
              "       -2.86117964e-02,  1.92400891e-02,  4.40134673e-02, -6.63101644e-02,\n",
              "        3.43632074e-02,  4.22054902e-02,  2.05396280e-03,  3.41420476e-02,\n",
              "        8.98283230e-03,  1.29549125e-03,  1.21753956e-02, -9.35197414e-03,\n",
              "       -2.64653886e-02, -3.34050743e-02, -3.94023624e-02,  3.18416010e-02,\n",
              "       -1.36938269e-02,  7.98278344e-03,  3.80849923e-02,  2.06076130e-02,\n",
              "       -1.10767043e-02,  4.71094006e-02,  3.51292305e-02, -3.44591325e-02,\n",
              "        2.60467513e-02, -2.79312540e-02,  1.06931255e-02, -1.10427232e-02,\n",
              "       -2.28083330e-03, -4.15460386e-03, -2.75161468e-02, -4.58720458e-02,\n",
              "        1.40712892e-02, -3.28920656e-02,  5.02123756e-03,  5.77208279e-03,\n",
              "       -1.97899131e-02, -1.05831972e-03,  5.28186901e-03, -5.15221876e-02,\n",
              "        1.28123426e-02, -3.27490928e-03,  3.57807633e-02, -2.04037966e-02])"
            ]
          },
          "metadata": {
            "tags": []
          },
          "execution_count": 498
        }
      ]
    },
    {
      "cell_type": "markdown",
      "metadata": {
        "id": "YupxJBqmX96u"
      },
      "source": [
        " **get the closest words and test analogy of the model**"
      ]
    },
    {
      "cell_type": "code",
      "metadata": {
        "id": "GIUFWK6AwEQi"
      },
      "source": [
        "\n",
        "# word-analogy test\n",
        "def get_embedding_vec(word):\n",
        "    idx = model.dictionary.get(word.lower(), -1)\n",
        "    if idx<0:\n",
        "        #print(\"Missing word : '%s'\" % (word,))\n",
        "        return np.zeros(  (EMBEDDING_DIM, ), dtype='float32')  # UNK\n",
        "    return model.word_vectors[idx]\n",
        "\n",
        "def get_closest_word(vec, number=5):\n",
        "    dst = (np.dot(model.word_vectors, vec)\n",
        "                   / np.linalg.norm(model.word_vectors, axis=1)\n",
        "                   / np.linalg.norm(vec))\n",
        "    word_ids = np.argsort(-dst)\n",
        "    return [(model.inverse_dictionary[x], dst[x]) for x in word_ids[:number]\n",
        "            if x in model.inverse_dictionary]"
      ],
      "execution_count": null,
      "outputs": []
    },
    {
      "cell_type": "code",
      "metadata": {
        "colab": {
          "base_uri": "https://localhost:8080/"
        },
        "id": "Ndfrra4cwMbr",
        "outputId": "5416dd32-1904-43cf-8722-258d5517926a"
      },
      "source": [
        "analogy_vec = get_embedding_vec('having') + get_embedding_vec('beers') - get_embedding_vec('bar')\n",
        "get_closest_word(analogy_vec)"
      ],
      "execution_count": null,
      "outputs": [
        {
          "output_type": "execute_result",
          "data": {
            "text/plain": [
              "[('having', 0.9690193200786524),\n",
              " ('beers', 0.8561825034590829),\n",
              " ('bar', 0.8208992584203327),\n",
              " ('drinks', 0.7810890780700775),\n",
              " ('enjoyed', 0.6751582273672909)]"
            ]
          },
          "metadata": {
            "tags": []
          },
          "execution_count": 500
        }
      ]
    },
    {
      "cell_type": "markdown",
      "metadata": {
        "id": "QkIfi5JxwmNv"
      },
      "source": [
        "**get the query vector**"
      ]
    },
    {
      "cell_type": "code",
      "metadata": {
        "colab": {
          "base_uri": "https://localhost:8080/"
        },
        "id": "VcbxZk46wtIs",
        "outputId": "65b5ad60-af90-474b-c4e2-d3d6ecf02105"
      },
      "source": [
        "def get_embedding(Query):\n",
        "  sentence=[(Query).strip()]\n",
        "  liste_id=[]\n",
        "  for word in sentence:\n",
        "    idx = model.dictionary.get(word) \n",
        "    liste_id.append(idx) \n",
        "    for idw in liste_id:\n",
        "        return model.word_vectors[idw]\n",
        "\n",
        "#exemple query embedding:\n",
        "np.array(get_embedding('beers in the bar'))   "
      ],
      "execution_count": null,
      "outputs": [
        {
          "output_type": "execute_result",
          "data": {
            "text/plain": [
              "array([[[-3.53613251e-03, -7.44711414e-03,  1.75408206e-03, ...,\n",
              "         -5.02383892e-03, -1.76872283e-04, -3.46333566e-03],\n",
              "        [-8.10693410e-05, -1.85190868e-02,  6.14944734e-03, ...,\n",
              "         -3.27490928e-03,  3.57807633e-02, -2.04037966e-02],\n",
              "        [ 6.31492369e-04, -1.43139717e-02,  8.49621820e-03, ...,\n",
              "          1.09616225e-03,  3.39247352e-02, -2.04464412e-02],\n",
              "        ...,\n",
              "        [ 7.19247774e-03,  5.95838077e-03, -2.13573572e-03, ...,\n",
              "         -9.37847817e-03,  1.71172491e-02, -1.12196462e-03],\n",
              "        [ 5.06357677e-03,  3.73471917e-03, -5.41372502e-04, ...,\n",
              "         -7.98237324e-03,  1.34793805e-02,  3.64325568e-03],\n",
              "        [ 4.14657717e-03, -3.82958484e-03, -2.83858840e-03, ...,\n",
              "         -6.89148208e-03, -1.86253092e-03,  2.21884490e-03]]])"
            ]
          },
          "metadata": {
            "tags": []
          },
          "execution_count": 501
        }
      ]
    },
    {
      "cell_type": "markdown",
      "metadata": {
        "id": "qvEONwqMxeJP"
      },
      "source": [
        "**Get target words**"
      ]
    },
    {
      "cell_type": "code",
      "metadata": {
        "id": "Mjb_C9KDxMSd"
      },
      "source": [
        "def query_target_words(word1,word2):\n",
        "  target_list=[]\n",
        "  vec=get_embedding_vec(word1)+get_embedding_vec(word2)\n",
        "  res1=get_closest_word(vec)\n",
        "  target_list=[i  for i,j in res1 if(j>=0.50)]\n",
        "  print(target_list)\n"
      ],
      "execution_count": null,
      "outputs": []
    },
    {
      "cell_type": "code",
      "metadata": {
        "colab": {
          "base_uri": "https://localhost:8080/"
        },
        "id": "hQYTZxDaxsNv",
        "outputId": "2f971c1c-2a8f-4051-e968-da072221e308"
      },
      "source": [
        "query_target_words('beers','bar')\n",
        "query_target_words('built','computer')\n",
        "query_target_words('items','toyshop')\n",
        "query_target_words('television','recording')\n",
        "query_target_words('public','home')\n",
        "query_target_words('bridge','photo')\n",
        "query_target_words('public','home')\n",
        "query_target_words('grocery','shop')\n",
        "query_target_words('repairing','car')\n",
        "query_target_words('old','clock')"
      ],
      "execution_count": null,
      "outputs": [
        {
          "output_type": "stream",
          "text": [
            "['beers', 'bar', 'enjoyed', '2015', 'drinks']\n",
            "['personal', 'computer', 'built', 'scratch', 'conditions']\n",
            "['items', 'toyshop', 'looking']\n",
            "['recording', 'television', 'took']\n",
            "['home', 'transport', 'public', 'moments', 'moment']\n",
            "['photo', 'bridge', 'taking', 'sea', 'take']\n",
            "['home', 'transport', 'public', 'moments', 'moment']\n",
            "['grocery', 'store', 'interacting', 'shop', 'moments']\n",
            "['car', 'repairing', 'garden', 'driving', 'moments']\n",
            "['clock', 'old', 'flowers', 'looking', 'visible']\n"
          ],
          "name": "stdout"
        }
      ]
    },
    {
      "cell_type": "markdown",
      "metadata": {
        "id": "B4cT0uDSTuxe"
      },
      "source": [
        "**Model Visualization**"
      ]
    },
    {
      "cell_type": "code",
      "metadata": {
        "colab": {
          "base_uri": "https://localhost:8080/",
          "height": 592
        },
        "id": "fqv-xbCtxvtb",
        "outputId": "3ee529ea-92a1-4444-8a50-7217f3609e1c"
      },
      "source": [
        "import matplotlib.pyplot as plt\n",
        "from sklearn.manifold import TSNE\n",
        "tsne = TSNE(perplexity=40,n_components=2, random_state=23, init='pca',n_iter=2500)\n",
        "words=model.dictionary.keys()\n",
        "\n",
        "vectors=[get_embedding_vec(word)for word in words]\n",
        "\n",
        "Y = tsne.fit_transform(vectors[:1000])\n",
        "plt.figure(figsize=(10, 10)) \n",
        "plt.scatter(Y[:, 0], Y[:, 1])\n",
        "\n",
        "for label, x, y in zip(words, Y[:, 0], Y[:, 1]):\n",
        "    plt.annotate(label, xy=(x, y),    xytext=(5, 2), textcoords=\"offset points\",ha='right',\n",
        "                     va='bottom')\n"
      ],
      "execution_count": null,
      "outputs": [
        {
          "output_type": "display_data",
          "data": {
            "image/png": "[encoded data removed]",
            "text/plain": [
              "<Figure size 720x720 with 1 Axes>"
            ]
          },
          "metadata": {
            "tags": [],
            "needs_background": "light"
          }
        }
      ]
    },
    {
      "cell_type": "markdown",
      "metadata": {
        "id": "vPjpGcKsyFnc"
      },
      "source": [
        "# Implementation of the Word2Vec Model"
      ]
    },
    {
      "cell_type": "markdown",
      "metadata": {
        "id": "zLHZAgLezqxj"
      },
      "source": [
        "**Intialize and fit the model**"
      ]
    },
    {
      "cell_type": "code",
      "metadata": {
        "colab": {
          "base_uri": "https://localhost:8080/"
        },
        "id": "Y1qCUCERyxdM",
        "outputId": "abb2e656-b38d-47f9-fb3a-095da588309f"
      },
      "source": [
        "\n",
        "from gensim.models import Word2Vec\n",
        "\n",
        "\n",
        "n=2\n",
        "modelv = Word2Vec(sentences_ted,min_count=n,size=100,window=5,alpha=0.05,sg=1)\n",
        "modelv.train(sentences_ted, total_examples=modelv.corpus_count,epochs=30)\n",
        "print (modelv)"
      ],
      "execution_count": null,
      "outputs": [
        {
          "output_type": "stream",
          "text": [
            "Word2Vec(vocab=125, size=100, alpha=0.05)\n"
          ],
          "name": "stdout"
        }
      ]
    },
    {
      "cell_type": "code",
      "metadata": {
        "id": "rkScLMh7QnIT"
      },
      "source": [
        "modelv.save('word2vec2_model')\n",
        "modelv.save('/content/drive/MyDrive/Colab Notebooks/PFA /word2vec2_model')\n"
      ],
      "execution_count": null,
      "outputs": []
    },
    {
      "cell_type": "markdown",
      "metadata": {
        "id": "lBaPpixBX__j"
      },
      "source": [
        "**Load Model**"
      ]
    },
    {
      "cell_type": "code",
      "metadata": {
        "id": "0L_3sBgOXpix"
      },
      "source": [
        "modelv = Word2Vec.load('/content/drive/MyDrive/Colab Notebooks/PFA /word2vec2_model')"
      ],
      "execution_count": null,
      "outputs": []
    },
    {
      "cell_type": "markdown",
      "metadata": {
        "id": "NxrnrrDRPgB0"
      },
      "source": [
        "**Similarty Test**"
      ]
    },
    {
      "cell_type": "code",
      "metadata": {
        "colab": {
          "base_uri": "https://localhost:8080/"
        },
        "id": "bunl3s2qPkRV",
        "outputId": "055f53f8-5570-4dce-ca5d-e6caa45ecb05"
      },
      "source": [
        "modelv.most_similar(\"beers\")"
      ],
      "execution_count": null,
      "outputs": [
        {
          "output_type": "stream",
          "text": [
            "/usr/local/lib/python3.6/dist-packages/ipykernel_launcher.py:1: DeprecationWarning: Call to deprecated `most_similar` (Method will be removed in 4.0.0, use self.wv.most_similar() instead).\n",
            "  \"\"\"Entry point for launching an IPython kernel.\n",
            "/usr/local/lib/python3.6/dist-packages/gensim/matutils.py:737: FutureWarning: Conversion of the second argument of issubdtype from `int` to `np.signedinteger` is deprecated. In future, it will be treated as `np.int64 == np.dtype(int).type`.\n",
            "  if np.issubdtype(vec.dtype, np.int):\n"
          ],
          "name": "stderr"
        },
        {
          "output_type": "execute_result",
          "data": {
            "text/plain": [
              "[('bar', 0.9993124008178711),\n",
              " ('enjoyed', 0.9987481832504272),\n",
              " ('built', 0.9987391233444214),\n",
              " ('drinks', 0.9984534978866577),\n",
              " ('building', 0.9984323978424072),\n",
              " ('2016', 0.9984108209609985),\n",
              " ('having', 0.9983406662940979),\n",
              " ('computer', 0.9981142282485962),\n",
              " ('2015', 0.9980274438858032),\n",
              " ('scratch', 0.9979254007339478)]"
            ]
          },
          "metadata": {
            "tags": []
          },
          "execution_count": 508
        }
      ]
    },
    {
      "cell_type": "code",
      "metadata": {
        "colab": {
          "base_uri": "https://localhost:8080/"
        },
        "id": "c6Auq0p8QBvc",
        "outputId": "fb47ce36-03d0-49b2-da7e-dab830d083b1"
      },
      "source": [
        "modelv.most_similar('interviewing')"
      ],
      "execution_count": null,
      "outputs": [
        {
          "output_type": "stream",
          "text": [
            "/usr/local/lib/python3.6/dist-packages/ipykernel_launcher.py:1: DeprecationWarning: Call to deprecated `most_similar` (Method will be removed in 4.0.0, use self.wv.most_similar() instead).\n",
            "  \"\"\"Entry point for launching an IPython kernel.\n",
            "/usr/local/lib/python3.6/dist-packages/gensim/matutils.py:737: FutureWarning: Conversion of the second argument of issubdtype from `int` to `np.signedinteger` is deprecated. In future, it will be treated as `np.int64 == np.dtype(int).type`.\n",
            "  if np.issubdtype(vec.dtype, np.int):\n"
          ],
          "name": "stderr"
        },
        {
          "output_type": "execute_result",
          "data": {
            "text/plain": [
              "[('this', 0.9993204474449158),\n",
              " ('place', 0.99929279088974),\n",
              " ('interviewer', 0.9992927312850952),\n",
              " ('cameramen', 0.9992337226867676),\n",
              " ('location', 0.9991525411605835),\n",
              " ('recording', 0.9989435076713562),\n",
              " ('took', 0.9988080263137817),\n",
              " ('day', 0.9986323714256287),\n",
              " ('all', 0.9986211061477661),\n",
              " ('take', 0.9984778165817261)]"
            ]
          },
          "metadata": {
            "tags": []
          },
          "execution_count": 509
        }
      ]
    },
    {
      "cell_type": "code",
      "metadata": {
        "colab": {
          "base_uri": "https://localhost:8080/"
        },
        "id": "GGWB7SpnP-ke",
        "outputId": "03c214bf-daca-494c-92e6-09bbf9a70d65"
      },
      "source": [
        "modelv.most_similar(\"car\")"
      ],
      "execution_count": null,
      "outputs": [
        {
          "output_type": "stream",
          "text": [
            "/usr/local/lib/python3.6/dist-packages/ipykernel_launcher.py:1: DeprecationWarning: Call to deprecated `most_similar` (Method will be removed in 4.0.0, use self.wv.most_similar() instead).\n",
            "  \"\"\"Entry point for launching an IPython kernel.\n",
            "/usr/local/lib/python3.6/dist-packages/gensim/matutils.py:737: FutureWarning: Conversion of the second argument of issubdtype from `int` to `np.signedinteger` is deprecated. In future, it will be treated as `np.int64 == np.dtype(int).type`.\n",
            "  if np.issubdtype(vec.dtype, np.int):\n"
          ],
          "name": "stderr"
        },
        {
          "output_type": "execute_result",
          "data": {
            "text/plain": [
              "[('taken', 0.9992990493774414),\n",
              " ('stopping', 0.999265193939209),\n",
              " ('repairing', 0.9990226030349731),\n",
              " ('street', 0.9989744424819946),\n",
              " ('garden', 0.9989500045776367),\n",
              " ('walking', 0.9987064599990845),\n",
              " ('photo', 0.9986486434936523),\n",
              " ('bridge', 0.9986342787742615),\n",
              " ('moments', 0.9985345005989075),\n",
              " ('showing', 0.9983770847320557)]"
            ]
          },
          "metadata": {
            "tags": []
          },
          "execution_count": 510
        }
      ]
    },
    {
      "cell_type": "markdown",
      "metadata": {
        "id": "n-ofYxHgRONB"
      },
      "source": [
        "**get the query vector**"
      ]
    },
    {
      "cell_type": "code",
      "metadata": {
        "colab": {
          "base_uri": "https://localhost:8080/"
        },
        "id": "cbnomQlhRN1b",
        "outputId": "1eba6db2-204b-429a-d60d-dc6745246230"
      },
      "source": [
        "np.array(modelv.wv['bar'])"
      ],
      "execution_count": null,
      "outputs": [
        {
          "output_type": "execute_result",
          "data": {
            "text/plain": [
              "array([ 0.07804754,  0.01453433,  0.15159538,  0.14312658, -0.04639286,\n",
              "       -0.07720876, -0.18387435,  0.05515424,  0.00898441,  0.03507975,\n",
              "        0.05966068,  0.04513444, -0.15967807,  0.00949835,  0.0192728 ,\n",
              "       -0.1648095 , -0.15955856,  0.07555592, -0.1476423 ,  0.05490005,\n",
              "       -0.14285791, -0.02589051,  0.09384964, -0.08902424,  0.02852708,\n",
              "        0.08043165, -0.03234622, -0.19171815, -0.30966067, -0.11452666,\n",
              "        0.2767263 ,  0.03722084, -0.18073076,  0.10826663,  0.0498968 ,\n",
              "       -0.13155478,  0.11789776, -0.08421974,  0.00516014,  0.08778629,\n",
              "       -0.0797944 ,  0.10929954,  0.09304043, -0.07417326,  0.05983881,\n",
              "       -0.13667485, -0.16474333,  0.1816387 , -0.08891654, -0.06782553,\n",
              "       -0.10480425,  0.14270763,  0.03657797,  0.00853089, -0.03484586,\n",
              "        0.02765275,  0.12840231,  0.10466318, -0.07103992, -0.18194658,\n",
              "        0.01400151,  0.13253538, -0.07684726, -0.09204175,  0.02338392,\n",
              "        0.05332693, -0.02735704, -0.10385386, -0.09645043, -0.10084978,\n",
              "        0.07580739,  0.09463371,  0.05120157,  0.13016386,  0.19728452,\n",
              "        0.05564328,  0.05931176, -0.05556637,  0.2465428 , -0.1115691 ,\n",
              "       -0.04231695, -0.13161507, -0.13940218,  0.20189466, -0.01694521,\n",
              "       -0.02779031, -0.07709075, -0.07893439,  0.2540057 ,  0.05246652,\n",
              "        0.17070973,  0.12318775, -0.15498008, -0.13421224, -0.00608981,\n",
              "       -0.02078544, -0.06335178, -0.01086454, -0.17469464, -0.0121549 ],\n",
              "      dtype=float32)"
            ]
          },
          "metadata": {
            "tags": []
          },
          "execution_count": 511
        }
      ]
    },
    {
      "cell_type": "markdown",
      "metadata": {
        "id": "cjKa4DtIRvIU"
      },
      "source": [
        "**Get Target Word**"
      ]
    },
    {
      "cell_type": "code",
      "metadata": {
        "id": "M5wj7XJWQZCU"
      },
      "source": [
        "\n",
        "def tarrget(word):\n",
        "  target_tokens=[]\n",
        "  res=modelv.most_similar(word)\n",
        "  for i,j in res:\n",
        "    if (j>0.80):\n",
        "      target_tokens.append(i)\n",
        "  print(target_tokens)"
      ],
      "execution_count": null,
      "outputs": []
    },
    {
      "cell_type": "code",
      "metadata": {
        "colab": {
          "base_uri": "https://localhost:8080/"
        },
        "id": "Kd0lnFG2SLeY",
        "outputId": "386e36c8-218c-46f3-bcc1-6004076fe4d1"
      },
      "source": [
        "vec=['bar','computer','television','toys','sea','car','monsters']\n",
        "for i in vec:\n",
        "    tarrget(i)\n"
      ],
      "execution_count": null,
      "outputs": [
        {
          "output_type": "stream",
          "text": [
            "['beers', 'enjoyed', 'drinks', 'built', 'having', '2016', 'building', 'boat', 'conditions', 'computer']\n",
            "['scratch', 'building', 'personal', 'built', 'drinks', 'bar', 'beers', 'enjoyed', '2016', 'it']\n",
            "['recorded', 'supermarket', 'being', 'show', 'electronics', 'store', 'recording', 'camera', 'various', 'sometimes']\n",
            "['electronic', 'board', 'games', 'examined', 'model', 'kits', 'trains', 'various', 'boat', '2016']\n",
            "['cream', 'eating', 'taking', 'ice', 'seaside', 'photos', 'walking', 'moments', 'driving', 'pier']\n",
            "['taken', 'stopping', 'repairing', 'street', 'garden', 'walking', 'photo', 'bridge', 'moments', 'showing']\n",
            "['small', 'clock', 'one', 'flowers', 'lamp', 'watching', 'old', 'rabbit', 'action', 'visible']\n"
          ],
          "name": "stdout"
        },
        {
          "output_type": "stream",
          "text": [
            "/usr/local/lib/python3.6/dist-packages/ipykernel_launcher.py:4: DeprecationWarning: Call to deprecated `most_similar` (Method will be removed in 4.0.0, use self.wv.most_similar() instead).\n",
            "  after removing the cwd from sys.path.\n",
            "/usr/local/lib/python3.6/dist-packages/gensim/matutils.py:737: FutureWarning: Conversion of the second argument of issubdtype from `int` to `np.signedinteger` is deprecated. In future, it will be treated as `np.int64 == np.dtype(int).type`.\n",
            "  if np.issubdtype(vec.dtype, np.int):\n"
          ],
          "name": "stderr"
        }
      ]
    },
    {
      "cell_type": "markdown",
      "metadata": {
        "id": "6xlGeWAle8bC"
      },
      "source": [
        "**Model Visualization**"
      ]
    },
    {
      "cell_type": "code",
      "metadata": {
        "colab": {
          "base_uri": "https://localhost:8080/",
          "height": 538
        },
        "id": "Wq34SR8we8I7",
        "outputId": "32080adf-a59f-40c8-a2c9-8fc1785381bf"
      },
      "source": [
        "from sklearn.manifold import TSNE\n",
        "import matplotlib.pyplot as plt\n",
        "\n",
        "def tsne_plot(model):\n",
        "    \"Creates and TSNE model and plots it\"\n",
        "    labels = []\n",
        "    tokens = []\n",
        "\n",
        "    for word in model_v.wv.vocab:\n",
        "        tokens.append(model[word])\n",
        "        labels.append(word)\n",
        "    \n",
        "    tsne_model = TSNE(perplexity=100, n_components=2, init='pca', n_iter=2500, random_state=23)\n",
        "    \n",
        "    new_values = tsne_model.fit_transform(tokens)\n",
        "\n",
        "    x = []\n",
        "    y = []\n",
        "    for value in new_values:\n",
        "        x.append(value[0])\n",
        "        y.append(value[1])\n",
        "        \n",
        "    plt.figure(figsize=(20, 10)) \n",
        "    for i in range(len(x)):\n",
        "        plt.scatter(x[i],y[i])\n",
        "        plt.annotate(labels[i],\n",
        "                     xy=(x[i], y[i]),\n",
        "                     xytext=(5, 2),\n",
        "                     textcoords='offset points',\n",
        "                     ha='right',\n",
        "                     va='bottom')\n",
        "    plt.show()\n",
        "tsne_plot(modelv)    "
      ],
      "execution_count": null,
      "outputs": [
        {
          "output_type": "stream",
          "text": [
            "/usr/local/lib/python3.6/dist-packages/ipykernel_launcher.py:10: DeprecationWarning: Call to deprecated `__getitem__` (Method will be removed in 4.0.0, use self.wv.__getitem__() instead).\n",
            "  # Remove the CWD from sys.path while we load stuff.\n"
          ],
          "name": "stderr"
        },
        {
          "output_type": "display_data",
          "data": {
            "image/png": "[encoded data removed]",
            "text/plain": [
              "<Figure size 1440x720 with 1 Axes>"
            ]
          },
          "metadata": {
            "tags": [],
            "needs_background": "light"
          }
        }
      ]
    },
    {
      "cell_type": "markdown",
      "metadata": {
        "id": "VVP2Ou65UXu6"
      },
      "source": [
        "# **Implementation of the model FastText**"
      ]
    },
    {
      "cell_type": "markdown",
      "metadata": {
        "id": "pW8XhVY3VQ-f"
      },
      "source": [
        "**Intialized and traing model**"
      ]
    },
    {
      "cell_type": "code",
      "metadata": {
        "colab": {
          "base_uri": "https://localhost:8080/"
        },
        "id": "1wt9Cl-kTmmL",
        "outputId": "bbe9c13c-e0c1-4c10-944a-61fa7abe3b4f"
      },
      "source": [
        "%%time\n",
        "from gensim.models import FastText\n",
        "\n",
        "n=1\n",
        "modelf = FastText(min_count =n,size = 100, window=5,sg=1,alpha=0.05)\n",
        "\n",
        "modelf.build_vocab(sentences_ted,update=0)\n",
        "\n",
        "modelf.train(sentences_ted, total_examples=modelf.corpus_count, epochs=30)\n",
        "print(modelf)"
      ],
      "execution_count": null,
      "outputs": [
        {
          "output_type": "stream",
          "text": [
            "FastText(vocab=125, size=100, alpha=0.05)\n",
            "CPU times: user 618 ms, sys: 9.07 ms, total: 627 ms\n",
            "Wall time: 636 ms\n"
          ],
          "name": "stdout"
        }
      ]
    },
    {
      "cell_type": "markdown",
      "metadata": {
        "id": "BQ9F9dB6YJsb"
      },
      "source": [
        "**Save Model**"
      ]
    },
    {
      "cell_type": "code",
      "metadata": {
        "id": "y2TWlpTFYJJy"
      },
      "source": [
        "modelf.save('FastText_model')\n",
        "modelf.save('/content/drive/MyDrive/Colab Notebooks/PFA /FastText_model')"
      ],
      "execution_count": null,
      "outputs": []
    },
    {
      "cell_type": "markdown",
      "metadata": {
        "id": "Ewomc4JHYYKm"
      },
      "source": [
        "**Load Model**"
      ]
    },
    {
      "cell_type": "code",
      "metadata": {
        "id": "b24HKiCdYXoa"
      },
      "source": [
        "modelf=FastText.load('/content/drive/MyDrive/Colab Notebooks/PFA /FastText_model')"
      ],
      "execution_count": null,
      "outputs": []
    },
    {
      "cell_type": "markdown",
      "metadata": {
        "id": "urSAevOLdD_n"
      },
      "source": [
        "**Similarty Test**"
      ]
    },
    {
      "cell_type": "code",
      "metadata": {
        "colab": {
          "base_uri": "https://localhost:8080/"
        },
        "id": "if9akVrgdH9m",
        "outputId": "902a2dc0-327c-4de6-c6d5-855498ca594c"
      },
      "source": [
        "modelf.most_similar(\"beers\")"
      ],
      "execution_count": null,
      "outputs": [
        {
          "output_type": "stream",
          "text": [
            "/usr/local/lib/python3.6/dist-packages/ipykernel_launcher.py:1: DeprecationWarning: Call to deprecated `most_similar` (Method will be removed in 4.0.0, use self.wv.most_similar() instead).\n",
            "  \"\"\"Entry point for launching an IPython kernel.\n",
            "/usr/local/lib/python3.6/dist-packages/gensim/matutils.py:737: FutureWarning: Conversion of the second argument of issubdtype from `int` to `np.signedinteger` is deprecated. In future, it will be treated as `np.int64 == np.dtype(int).type`.\n",
            "  if np.issubdtype(vec.dtype, np.int):\n"
          ],
          "name": "stderr"
        },
        {
          "output_type": "execute_result",
          "data": {
            "text/plain": [
              "[('flowers', 0.9997888803482056),\n",
              " ('enjoyed', 0.9997332692146301),\n",
              " ('conditions', 0.9997009038925171),\n",
              " ('drinks', 0.9996578693389893),\n",
              " ('hammer', 0.9996484518051147),\n",
              " ('rabbit', 0.9996395111083984),\n",
              " ('clock', 0.9996342658996582),\n",
              " ('computer', 0.9996331334114075),\n",
              " ('visible', 0.999624490737915),\n",
              " ('watching', 0.9996082186698914)]"
            ]
          },
          "metadata": {
            "tags": []
          },
          "execution_count": 518
        }
      ]
    },
    {
      "cell_type": "code",
      "metadata": {
        "colab": {
          "base_uri": "https://localhost:8080/"
        },
        "id": "4FwJMcoydndp",
        "outputId": "9f89beb8-937a-4f44-f019-c23456969711"
      },
      "source": [
        "modelf.most_similar(\"interviewing\")"
      ],
      "execution_count": null,
      "outputs": [
        {
          "output_type": "stream",
          "text": [
            "/usr/local/lib/python3.6/dist-packages/ipykernel_launcher.py:1: DeprecationWarning: Call to deprecated `most_similar` (Method will be removed in 4.0.0, use self.wv.most_similar() instead).\n",
            "  \"\"\"Entry point for launching an IPython kernel.\n",
            "/usr/local/lib/python3.6/dist-packages/gensim/matutils.py:737: FutureWarning: Conversion of the second argument of issubdtype from `int` to `np.signedinteger` is deprecated. In future, it will be treated as `np.int64 == np.dtype(int).type`.\n",
            "  if np.issubdtype(vec.dtype, np.int):\n"
          ],
          "name": "stderr"
        },
        {
          "output_type": "execute_result",
          "data": {
            "text/plain": [
              "[('interviewer', 0.9999537467956543),\n",
              " ('interacting', 0.9998614192008972),\n",
              " ('recording', 0.9998460412025452),\n",
              " ('cameramen', 0.9998245239257812),\n",
              " ('camera', 0.9997678995132446),\n",
              " ('place', 0.999758243560791),\n",
              " ('being', 0.9997411966323853),\n",
              " ('location', 0.9997329115867615),\n",
              " ('saturdays', 0.9997308254241943),\n",
              " ('this', 0.9997285008430481)]"
            ]
          },
          "metadata": {
            "tags": []
          },
          "execution_count": 519
        }
      ]
    },
    {
      "cell_type": "code",
      "metadata": {
        "colab": {
          "base_uri": "https://localhost:8080/"
        },
        "id": "xr2MNs3HeHhZ",
        "outputId": "75288bcf-0771-41eb-f427-65f114d7d6ea"
      },
      "source": [
        "modelf.most_similar(\"car\")"
      ],
      "execution_count": null,
      "outputs": [
        {
          "output_type": "stream",
          "text": [
            "/usr/local/lib/python3.6/dist-packages/ipykernel_launcher.py:1: DeprecationWarning: Call to deprecated `most_similar` (Method will be removed in 4.0.0, use self.wv.most_similar() instead).\n",
            "  \"\"\"Entry point for launching an IPython kernel.\n",
            "/usr/local/lib/python3.6/dist-packages/gensim/matutils.py:737: FutureWarning: Conversion of the second argument of issubdtype from `int` to `np.signedinteger` is deprecated. In future, it will be treated as `np.int64 == np.dtype(int).type`.\n",
            "  if np.issubdtype(vec.dtype, np.int):\n"
          ],
          "name": "stderr"
        },
        {
          "output_type": "execute_result",
          "data": {
            "text/plain": [
              "[('repairing', 0.9997923970222473),\n",
              " ('repair', 0.9997441172599792),\n",
              " ('street', 0.9996856451034546),\n",
              " ('garden', 0.999651312828064),\n",
              " ('stopping', 0.9996305704116821),\n",
              " ('bridge', 0.9996218681335449),\n",
              " ('taken', 0.9995999336242676),\n",
              " ('showing', 0.9995821714401245),\n",
              " ('walking', 0.9995402693748474),\n",
              " ('photograph', 0.9995217323303223)]"
            ]
          },
          "metadata": {
            "tags": []
          },
          "execution_count": 520
        }
      ]
    },
    {
      "cell_type": "markdown",
      "metadata": {
        "id": "rau8UCgOeURF"
      },
      "source": [
        "**get the query vector**"
      ]
    },
    {
      "cell_type": "code",
      "metadata": {
        "colab": {
          "base_uri": "https://localhost:8080/"
        },
        "id": "VwFpeyjceT1N",
        "outputId": "46cc1be2-6fe0-4529-a014-2edb13484e89"
      },
      "source": [
        "np.array(modelf.wv['bar'])"
      ],
      "execution_count": null,
      "outputs": [
        {
          "output_type": "execute_result",
          "data": {
            "text/plain": [
              "array([-0.09149504, -0.02526044,  0.11145871,  0.03265468, -0.183314  ,\n",
              "        0.0310014 , -0.04590725,  0.01078853,  0.0059819 ,  0.07928465,\n",
              "        0.07794856, -0.05808939, -0.13781503, -0.03237959,  0.14968877,\n",
              "        0.15344664,  0.02243019, -0.04450122,  0.05897365,  0.05367801,\n",
              "        0.02507682, -0.04986376, -0.15552163,  0.2638938 , -0.01500718,\n",
              "        0.0240541 ,  0.00279162, -0.00201211,  0.10222729, -0.0775841 ,\n",
              "       -0.03299695, -0.05799532,  0.0576384 ,  0.0191436 ,  0.03663424,\n",
              "        0.0495059 , -0.02194606,  0.03022263, -0.08694933,  0.00520497,\n",
              "        0.09526165,  0.04818454, -0.0242681 ,  0.29888514, -0.02097346,\n",
              "        0.13946153,  0.01002174,  0.12867561,  0.009236  , -0.06322905,\n",
              "       -0.07602624,  0.1208002 , -0.03848835,  0.11691441,  0.08629879,\n",
              "       -0.08537113, -0.00751025,  0.03350673,  0.0084878 , -0.06922646,\n",
              "        0.04947817, -0.10565054,  0.04604802, -0.05157241,  0.01415494,\n",
              "        0.11917397, -0.08700856,  0.13502753, -0.08652627,  0.00429068,\n",
              "       -0.0702169 ,  0.06274951, -0.04273111, -0.0581174 ,  0.04959717,\n",
              "       -0.12166625, -0.05940327, -0.14195459, -0.09023532,  0.11325254,\n",
              "       -0.09291684,  0.1054303 , -0.04775312,  0.06696463,  0.03692784,\n",
              "       -0.19548137,  0.04754579,  0.15887675, -0.0105353 ,  0.1055855 ,\n",
              "       -0.04033126,  0.01317685,  0.05026783, -0.11418609, -0.09120949,\n",
              "       -0.09080652, -0.12606612, -0.14007778, -0.05035251, -0.09116934],\n",
              "      dtype=float32)"
            ]
          },
          "metadata": {
            "tags": []
          },
          "execution_count": 521
        }
      ]
    },
    {
      "cell_type": "markdown",
      "metadata": {
        "id": "qofwuFGnencc"
      },
      "source": [
        "**Get Target Word**"
      ]
    },
    {
      "cell_type": "code",
      "metadata": {
        "id": "9y8C93E9emfB"
      },
      "source": [
        "def tarrget(word):\n",
        "  target_tokens=[]\n",
        "  res=modelf.most_similar(word)\n",
        "  for i,j in res:\n",
        "    if (j>0.75):\n",
        "      target_tokens.append(i)\n",
        "  print(target_tokens)"
      ],
      "execution_count": null,
      "outputs": []
    },
    {
      "cell_type": "code",
      "metadata": {
        "colab": {
          "base_uri": "https://localhost:8080/"
        },
        "id": "4HvFe2RreQ1x",
        "outputId": "cd1f1246-31ae-4752-e984-8d6284d1fcea"
      },
      "source": [
        "vec=['bar','computer','television','toys','sea','car','monsters']\n",
        "for i in vec:\n",
        "    tarrget(i)"
      ],
      "execution_count": null,
      "outputs": [
        {
          "output_type": "stream",
          "text": [
            "['having', 'enjoyed', 'grocery', 'something', 'drinks', 'driving', 'weekends', 'beers', 'saturdays', 'sometimes']\n",
            "['scratch', 'drinks', 'building', 'personal', 'built', 'beers', 'enjoyed', 'holding', 'cone', 'sometimes']\n",
            "['supermarket', 'recorded', 'recording', 'location', 'saturdays', 'sometimes', 'show', 'cameramen', 'something', 'electronics']\n",
            "['toyshop', 'office', 'parts', 'items', 'examined', 'electronic', 'shop', 'kits', 'various', 'electronics']\n",
            "['cream', 'seaside', 'driving', 'eating', 'ice', 'walking', 'having', 'pier', 'photos', 'taking']\n",
            "['repairing', 'repair', 'street', 'garden', 'stopping', 'bridge', 'taken', 'showing', 'walking', 'photograph']\n",
            "['monster', 'small', 'flowers', 'old', 'clock', 'one', 'lamp', 'rabbit', 'visible', 'action']\n"
          ],
          "name": "stdout"
        },
        {
          "output_type": "stream",
          "text": [
            "/usr/local/lib/python3.6/dist-packages/ipykernel_launcher.py:3: DeprecationWarning: Call to deprecated `most_similar` (Method will be removed in 4.0.0, use self.wv.most_similar() instead).\n",
            "  This is separate from the ipykernel package so we can avoid doing imports until\n",
            "/usr/local/lib/python3.6/dist-packages/gensim/matutils.py:737: FutureWarning: Conversion of the second argument of issubdtype from `int` to `np.signedinteger` is deprecated. In future, it will be treated as `np.int64 == np.dtype(int).type`.\n",
            "  if np.issubdtype(vec.dtype, np.int):\n"
          ],
          "name": "stderr"
        }
      ]
    },
    {
      "cell_type": "markdown",
      "metadata": {
        "id": "TKAb0J44e5Nm"
      },
      "source": [
        "**Model Visualization**"
      ]
    },
    {
      "cell_type": "code",
      "metadata": {
        "colab": {
          "base_uri": "https://localhost:8080/",
          "height": 542
        },
        "id": "OVaJigrVfbFo",
        "outputId": "347cea03-c607-48fc-ae80-7d16570d6e3b"
      },
      "source": [
        "from sklearn.manifold import TSNE\n",
        "import matplotlib.pyplot as plt\n",
        "\n",
        "def tsne_plot(model):\n",
        "    \"Creates and TSNE model and plots it\"\n",
        "    labels = []\n",
        "    tokens = []\n",
        "\n",
        "    for word in modelf.wv.vocab:\n",
        "        tokens.append(modelf[word])\n",
        "        labels.append(word)\n",
        "    \n",
        "    tsne_model = TSNE(perplexity=40, n_components=2, init='pca', n_iter=2500, random_state=23)\n",
        "    new_values = tsne_model.fit_transform(tokens)\n",
        "\n",
        "\n",
        "    x = []\n",
        "    y = []\n",
        "    for value in new_values:\n",
        "        x.append(value[0])\n",
        "        y.append(value[1])\n",
        "        \n",
        "    plt.figure(figsize=(20, 10)) \n",
        "    for i in range(len(x)):\n",
        "        plt.scatter(x[i],y[i])\n",
        "        plt.annotate(labels[i],\n",
        "                     xy=(x[i], y[i]),\n",
        "                     xytext=(5, 2),\n",
        "                     textcoords='offset points',\n",
        "                     ha='right',\n",
        "                     va='bottom')\n",
        "    plt.show()\n",
        "tsne_plot(modelf)    "
      ],
      "execution_count": null,
      "outputs": [
        {
          "output_type": "stream",
          "text": [
            "/usr/local/lib/python3.6/dist-packages/ipykernel_launcher.py:10: DeprecationWarning: Call to deprecated `__getitem__` (Method will be removed in 4.0.0, use self.wv.__getitem__() instead).\n",
            "  # Remove the CWD from sys.path while we load stuff.\n"
          ],
          "name": "stderr"
        },
        {
          "output_type": "display_data",
          "data": {
            "image/png": "[encoded data removed]",
            "text/plain": [
              "<Figure size 1440x720 with 1 Axes>"
            ]
          },
          "metadata": {
            "tags": [],
            "needs_background": "light"
          }
        }
      ]
    },
    {
      "cell_type": "markdown",
      "metadata": {
        "id": "r_bMvqv8f8ax"
      },
      "source": [
        "\n",
        "\n",
        "```\n",
        "# The Training results (Similarty Test)shows that the Word2Vec  model is  better then FastText and GLOVE\n",
        "```\n",
        "\n"
      ]
    },
    {
      "cell_type": "markdown",
      "metadata": {
        "id": "0LBtD_DTmg98"
      },
      "source": [
        "# Models Evaluation"
      ]
    },
    {
      "cell_type": "markdown",
      "metadata": {
        "id": "kaaKHdcWnMCA"
      },
      "source": [
        "**Load Testset**"
      ]
    },
    {
      "cell_type": "code",
      "metadata": {
        "colab": {
          "base_uri": "https://localhost:8080/"
        },
        "id": "rasmj_JhnLIm",
        "outputId": "10276937-9500-4ffb-ea99-73e3a28f1b6e"
      },
      "source": [
        "file = open(\"/content/drive/MyDrive/Colab Notebooks/PFA / test.xml\")\n",
        "Test=file.read()\n",
        "print(Test)"
      ],
      "execution_count": null,
      "outputs": [
        {
          "output_type": "stream",
          "text": [
            "<?xml version=\"1.0\" encoding=\"UTF-8\"?>\n",
            "<topics>\n",
            "<topic>\n",
            "<id>001</id>\n",
            "<type>precision</type>\n",
            "<uid>u1</uid>\n",
            "<title>Praying Rite</title>\n",
            "<description>Find the moment when u1 was attending a\n",
            "praying rite with other people in the church.</description>\n",
            "<narrative>To be relevant, the moment must show u1 is\n",
            "currently inside the church, attending a praying rite with other\n",
            "people. The moments that u1 is outside with the church visible or\n",
            "inside the church but is not attending the praying rite are not\n",
            "considered relevant.</narrative>\n",
            "</topic>\n",
            "<topic>\n",
            "<id>002</id>\n",
            "<type>recall</type>\n",
            "<uid>u1</uid>\n",
            "<title>Lifelog data on touchscreen on the wall</title>\n",
            "<description>Find the moment when u1 was looking at\n",
            "lifelog data on a large touchscreen on the wall.</description>\n",
            "<narrative>To be relevant, the moment must show u1 is\n",
            "looking at his lifelog data on the touchscreen wall. The touchscreen\n",
            "wall showed a range of colorful images at that time. At some moments,\n",
            "u1 was talking to other people while looking at the lifelog data on\n",
            "the touchscreen wall. The moments that u1 is looking at the\n",
            "touchscreen on the wall but it did not show colorful lifelog images\n",
            "are not considered relevant. The moments that u1 is looking at his\n",
            "colorful lifelog data on a desktop monitor are also not considered\n",
            "relevant.</narrative>\n",
            "</topic>\n",
            "<topic>\n",
            "<id>003</id>\n",
            "<type>precision</type>\n",
            "<uid>u1</uid>\n",
            "<title>Bus to work - Bus to home</title>\n",
            "<description>Find the moment when u1 was getting a bus to\n",
            "his office at Dublin City University or was going home by\n",
            "bus.</description>\n",
            "<narrative>To be relevant, u1 was on the bus and the\n",
            "destination is his home or his workplace. The moments that u1 was\n",
            "waiting at the bus stop or u1 was travelling on any other public\n",
            "transportations or the destination is not his home/workplace are not\n",
            "considered relevant.</narrative>\n",
            "</topic>\n",
            "<topic>\n",
            "<id>004</id>\n",
            "<type>recall</type>\n",
            "<uid>u1</uid>\n",
            "<title>Bus at the airport</title>\n",
            "<description>Find the moment when u1 was getting on a bus\n",
            "in the aircraft landing deck in the airport.</description>\n",
            "<narrative>To be relevant, u1 was walking to the bus in\n",
            "the aircraft landing deck in the airport after. Some possible moments\n",
            "include u1 walking out from the airplane and u1 walking to the bus\n",
            "parking in the aircraft landing deck. There would be many airplanes\n",
            "visible. Other moments that u1 was on the bus without airplanes\n",
            "visible outside/u1 was at the airport but the bus is not visible/the\n",
            "bus is not in the aircraft landing deck are not considered\n",
            "relevant.</narrative>\n",
            "</topic>\n",
            "<topic>\n",
            "<id>005</id>\n",
            "<type>recall</type>\n",
            "<uid>u1</uid>\n",
            "<title>Medicine cabinet</title>\n",
            "<description>Find the moment when u1 was looking inside\n",
            "the medicine cabinet in the bathroom at home.</description>\n",
            "<narrative>To be considered relevant, u1 must be at home,\n",
            "looking inside the opening medicine cabinet beside a mirror in the\n",
            "bathroom. The moments that u1 was looking inside the medicine cabinet\n",
            "in other places (not at home and not in the bathroom) or u1 was\n",
            "looking at the closed medicine cabinet are not considered to be\n",
            "relevant.</narrative>\n",
            "</topic>\n",
            "<topic>\n",
            "<id>006</id>\n",
            "<type>recall</type>\n",
            "<uid>u1</uid>\n",
            "<title>Order Food in the Airport</title>\n",
            "<description>Find the moment when u1 was ordering fast\n",
            "food in the airport</description>\n",
            "<narrative>To be relevant, u1 must be at the airport and\n",
            "ordering food. The moments that u1 was queuing to order food are also\n",
            "considered relevant. The moments that u1 was eating fast food or\n",
            "waiting for collection of food at the airport are not considered to\n",
            "be relevant</narrative>\n",
            "</topic>\n",
            "<topic>\n",
            "<id>007</id>\n",
            "<type>recall</type>\n",
            "<uid>u1</uid>\n",
            "<title>Seafood at Restaurant</title>\n",
            "<description>Find moments when u1 was eating seafood in a\n",
            "restaurant in the evening time</description>\n",
            "<narrative>The moments show u1 was eating seafood in any\n",
            "restaurant in the evening time are considered relevant. Any dish has\n",
            "seafood as one of its parts is also considered relevant. Some\n",
            "examples of the seafood can be shrimp, lobster, salmon.</narrative>\n",
            "</topic>\n",
            "<topic>\n",
            "<id>008</id>\n",
            "<type>precision</type>\n",
            "<uid>u1</uid>\n",
            "<title>Meeting with people</title>\n",
            "<description>Find the moments when u1 was a roundtable\n",
            "meeting with many people and there was pink (not red) name-cards for\n",
            "each person</description>\n",
            "<narrative>The moments show u1 was at a roundtable and\n",
            "having a meeting with many people, and with pink name-cards visible\n",
            "are considered relevant. The moments that people are not having a\n",
            "meeting are not relevant</narrative>\n",
            "</topic>\n",
            "<topic>\n",
            "<id>009</id>\n",
            "<type>recall</type>\n",
            "<uid>u1</uid>\n",
            "<title>Eating Pizza</title>\n",
            "<description>Find the moments when u1 was eating a pizza\n",
            "while talking to one man</description>\n",
            "<narrative>To be considered relevant, the u1 must eat or\n",
            "hold a pizza with a man visible in the background. The moments that\n",
            "u1 was talking to more than one person are not relevant</narrative>\n",
            "</topic>\n",
            "<topic>\n",
            "<id>010</id>\n",
            "<type>precision</type>\n",
            "<uid>u1</uid>\n",
            "<title>Socialising</title>\n",
            "<description>Find the moments when u1 was talking to a\n",
            "lady in a red top, standing directly in front of a poster hanging on\n",
            "a wall\n",
            "</description>\n",
            "<narrative>To be relevant, the u1 must be talking with a\n",
            "woman in red, who was standing right in front of a scientific\n",
            "research poster</narrative>\n",
            "</topic>\n"
          ],
          "name": "stdout"
        }
      ]
    },
    {
      "cell_type": "markdown",
      "metadata": {
        "id": "TIdO_sEcpUNL"
      },
      "source": [
        "**Preprocessing**"
      ]
    },
    {
      "cell_type": "code",
      "metadata": {
        "colab": {
          "base_uri": "https://localhost:8080/"
        },
        "id": "YK3t35FvpTqA",
        "outputId": "ef0fc3d9-1e22-47d7-d025-764c39dc60de"
      },
      "source": [
        "from bs4 import BeautifulSoup\n",
        "import lxml\n",
        "\n",
        "file = open(\"/content/drive/MyDrive/Colab Notebooks/PFA / test.xml\")\n",
        "page = file.read()\n",
        "\n",
        "soup = BeautifulSoup(page, features=\"lxml\")\n",
        "dataset=soup.get_text()\n",
        "print(dataset)\n",
        "h = open(\"/content/drive/MyDrive/Colab Notebooks/PFA /test.txt\", \"w\")\n",
        "\n",
        "for line in soup:\n",
        "    h.write(soup.get_text())\n",
        "h.close()"
      ],
      "execution_count": null,
      "outputs": [
        {
          "output_type": "stream",
          "text": [
            "\n",
            "\n",
            "001\n",
            "precision\n",
            "u1\n",
            "Praying Rite\n",
            "Find the moment when u1 was attending a\n",
            "praying rite with other people in the church.\n",
            "To be relevant, the moment must show u1 is\n",
            "currently inside the church, attending a praying rite with other\n",
            "people. The moments that u1 is outside with the church visible or\n",
            "inside the church but is not attending the praying rite are not\n",
            "considered relevant.\n",
            "\n",
            "\n",
            "002\n",
            "recall\n",
            "u1\n",
            "Lifelog data on touchscreen on the wall\n",
            "Find the moment when u1 was looking at\n",
            "lifelog data on a large touchscreen on the wall.\n",
            "To be relevant, the moment must show u1 is\n",
            "looking at his lifelog data on the touchscreen wall. The touchscreen\n",
            "wall showed a range of colorful images at that time. At some moments,\n",
            "u1 was talking to other people while looking at the lifelog data on\n",
            "the touchscreen wall. The moments that u1 is looking at the\n",
            "touchscreen on the wall but it did not show colorful lifelog images\n",
            "are not considered relevant. The moments that u1 is looking at his\n",
            "colorful lifelog data on a desktop monitor are also not considered\n",
            "relevant.\n",
            "\n",
            "\n",
            "003\n",
            "precision\n",
            "u1\n",
            "Bus to work - Bus to home\n",
            "Find the moment when u1 was getting a bus to\n",
            "his office at Dublin City University or was going home by\n",
            "bus.\n",
            "To be relevant, u1 was on the bus and the\n",
            "destination is his home or his workplace. The moments that u1 was\n",
            "waiting at the bus stop or u1 was travelling on any other public\n",
            "transportations or the destination is not his home/workplace are not\n",
            "considered relevant.\n",
            "\n",
            "\n",
            "004\n",
            "recall\n",
            "u1\n",
            "Bus at the airport\n",
            "Find the moment when u1 was getting on a bus\n",
            "in the aircraft landing deck in the airport.\n",
            "To be relevant, u1 was walking to the bus in\n",
            "the aircraft landing deck in the airport after. Some possible moments\n",
            "include u1 walking out from the airplane and u1 walking to the bus\n",
            "parking in the aircraft landing deck. There would be many airplanes\n",
            "visible. Other moments that u1 was on the bus without airplanes\n",
            "visible outside/u1 was at the airport but the bus is not visible/the\n",
            "bus is not in the aircraft landing deck are not considered\n",
            "relevant.\n",
            "\n",
            "\n",
            "005\n",
            "recall\n",
            "u1\n",
            "Medicine cabinet\n",
            "Find the moment when u1 was looking inside\n",
            "the medicine cabinet in the bathroom at home.\n",
            "To be considered relevant, u1 must be at home,\n",
            "looking inside the opening medicine cabinet beside a mirror in the\n",
            "bathroom. The moments that u1 was looking inside the medicine cabinet\n",
            "in other places (not at home and not in the bathroom) or u1 was\n",
            "looking at the closed medicine cabinet are not considered to be\n",
            "relevant.\n",
            "\n",
            "\n",
            "006\n",
            "recall\n",
            "u1\n",
            "Order Food in the Airport\n",
            "Find the moment when u1 was ordering fast\n",
            "food in the airport\n",
            "To be relevant, u1 must be at the airport and\n",
            "ordering food. The moments that u1 was queuing to order food are also\n",
            "considered relevant. The moments that u1 was eating fast food or\n",
            "waiting for collection of food at the airport are not considered to\n",
            "be relevant\n",
            "\n",
            "\n",
            "007\n",
            "recall\n",
            "u1\n",
            "Seafood at Restaurant\n",
            "Find moments when u1 was eating seafood in a\n",
            "restaurant in the evening time\n",
            "The moments show u1 was eating seafood in any\n",
            "restaurant in the evening time are considered relevant. Any dish has\n",
            "seafood as one of its parts is also considered relevant. Some\n",
            "examples of the seafood can be shrimp, lobster, salmon.\n",
            "\n",
            "\n",
            "008\n",
            "precision\n",
            "u1\n",
            "Meeting with people\n",
            "Find the moments when u1 was a roundtable\n",
            "meeting with many people and there was pink (not red) name-cards for\n",
            "each person\n",
            "The moments show u1 was at a roundtable and\n",
            "having a meeting with many people, and with pink name-cards visible\n",
            "are considered relevant. The moments that people are not having a\n",
            "meeting are not relevant\n",
            "\n",
            "\n",
            "009\n",
            "recall\n",
            "u1\n",
            "Eating Pizza\n",
            "Find the moments when u1 was eating a pizza\n",
            "while talking to one man\n",
            "To be considered relevant, the u1 must eat or\n",
            "hold a pizza with a man visible in the background. The moments that\n",
            "u1 was talking to more than one person are not relevant\n",
            "\n",
            "\n",
            "010\n",
            "precision\n",
            "u1\n",
            "Socialising\n",
            "Find the moments when u1 was talking to a\n",
            "lady in a red top, standing directly in front of a poster hanging on\n",
            "a wall\n",
            "\n",
            "To be relevant, the u1 must be talking with a\n",
            "woman in red, who was standing right in front of a scientific\n",
            "research poster\n",
            "\n"
          ],
          "name": "stdout"
        }
      ]
    },
    {
      "cell_type": "code",
      "metadata": {
        "colab": {
          "base_uri": "https://localhost:8080/"
        },
        "id": "zp3RMGvfliIu",
        "outputId": "6488e3f2-1f4a-4e7f-c8fd-8b7146f62b1b"
      },
      "source": [
        "import numpy as np\n",
        "\n",
        "import os\n",
        "import pickle\n",
        "\n",
        "import nltk\n",
        "from nltk.corpus import stopwords\n",
        "from nltk.tokenize import TreebankWordTokenizer\n",
        "\n",
        "nltk.download('punkt')\n",
        "nltk.download('stopwords')\n",
        "tokenizer = TreebankWordTokenizer()\n",
        "\n",
        "stoplist = stopwords.words('english')\n",
        "stoplist = stopwords.words('english')\n",
        "\n",
        "__query_typical_tokens__ = [\n",
        "     \n",
        "     \"considered\",\"relevant,\",\"precision\",\"u1\",\"To\",\"The\",\"Relevant,\",\"moments\",\"moment\",\"topic\",\"topics\",\"also\",\"must\",\"without\",\"it\",\n",
        "      \"in\",\"clearly\",\"visible\",\"another\",\"perhaps\",\"long\",\"might\",\"two\",\"a\",\n",
        "    \"001\",\"002\", \"003\",\"004\",\"005\",\"006\",\"007\",\"008\",\"009\",\"010\"]\n",
        "\n",
        "additional_stopwords2 = [\"Relevant\"]\n",
        "additional_stopwords=additional_stopwords2\n",
        "stoplist =stoplist + __query_typical_tokens__+additional_stopwords2\n",
        "line=\"  \"\n",
        "file = open(\"/content/drive/MyDrive/Colab Notebooks/PFA /test.txt\")\n",
        "\n",
        "\n",
        "text = file.read()\n",
        "for word in text.split():\n",
        "    if word not in stoplist:\n",
        "      \n",
        "        line+=word+\" \"\n",
        "        \n",
        "print(line)     \n",
        "        \n",
        "line = line.lower()       \n",
        "print(line)\n",
        "h = open(\"/content/drive/MyDrive/Colab Notebooks/PFA /data_test.txt\", \"w\")\n",
        "\n",
        "for l in line:\n",
        "  if l.split('.'):\n",
        "    h.write(l)\n",
        "h.close()"
      ],
      "execution_count": null,
      "outputs": [
        {
          "output_type": "stream",
          "text": [
            "[nltk_data] Downloading package punkt to /root/nltk_data...\n",
            "[nltk_data]   Package punkt is already up-to-date!\n",
            "[nltk_data] Downloading package stopwords to /root/nltk_data...\n",
            "[nltk_data]   Package stopwords is already up-to-date!\n",
            "  Praying Rite Find attending praying rite people church. show currently inside church, attending praying rite people. outside church inside church attending praying rite relevant. recall Lifelog data touchscreen wall Find looking lifelog data large touchscreen wall. show looking lifelog data touchscreen wall. touchscreen wall showed range colorful images time. At moments, talking people looking lifelog data touchscreen wall. looking touchscreen wall show colorful lifelog images relevant. looking colorful lifelog data desktop monitor relevant. Bus work - Bus home Find getting bus office Dublin City University going home bus. bus destination home workplace. waiting bus stop travelling public transportations destination home/workplace relevant. recall Bus airport Find getting bus aircraft landing deck airport. walking bus aircraft landing deck airport after. Some possible include walking airplane walking bus parking aircraft landing deck. There would many airplanes visible. Other bus airplanes outside/u1 airport bus visible/the bus aircraft landing deck relevant. recall Medicine cabinet Find looking inside medicine cabinet bathroom home. home, looking inside opening medicine cabinet beside mirror bathroom. looking inside medicine cabinet places (not home bathroom) looking closed medicine cabinet relevant. recall Order Food Airport Find ordering fast food airport airport ordering food. queuing order food relevant. eating fast food waiting collection food airport relevant recall Seafood Restaurant Find eating seafood restaurant evening time show eating seafood restaurant evening time relevant. Any dish seafood one parts relevant. Some examples seafood shrimp, lobster, salmon. Meeting people Find roundtable meeting many people pink (not red) name-cards person show roundtable meeting many people, pink name-cards relevant. people meeting relevant recall Eating Pizza Find eating pizza talking one man eat hold pizza man background. talking one person relevant Socialising Find talking lady red top, standing directly front poster hanging wall talking woman red, standing right front scientific research poster Praying Rite Find attending praying rite people church. show currently inside church, attending praying rite people. outside church inside church attending praying rite relevant. recall Lifelog data touchscreen wall Find looking lifelog data large touchscreen wall. show looking lifelog data touchscreen wall. touchscreen wall showed range colorful images time. At moments, talking people looking lifelog data touchscreen wall. looking touchscreen wall show colorful lifelog images relevant. looking colorful lifelog data desktop monitor relevant. Bus work - Bus home Find getting bus office Dublin City University going home bus. bus destination home workplace. waiting bus stop travelling public transportations destination home/workplace relevant. recall Bus airport Find getting bus aircraft landing deck airport. walking bus aircraft landing deck airport after. Some possible include walking airplane walking bus parking aircraft landing deck. There would many airplanes visible. Other bus airplanes outside/u1 airport bus visible/the bus aircraft landing deck relevant. recall Medicine cabinet Find looking inside medicine cabinet bathroom home. home, looking inside opening medicine cabinet beside mirror bathroom. looking inside medicine cabinet places (not home bathroom) looking closed medicine cabinet relevant. recall Order Food Airport Find ordering fast food airport airport ordering food. queuing order food relevant. eating fast food waiting collection food airport relevant recall Seafood Restaurant Find eating seafood restaurant evening time show eating seafood restaurant evening time relevant. Any dish seafood one parts relevant. Some examples seafood shrimp, lobster, salmon. Meeting people Find roundtable meeting many people pink (not red) name-cards person show roundtable meeting many people, pink name-cards relevant. people meeting relevant recall Eating Pizza Find eating pizza talking one man eat hold pizza man background. talking one person relevant Socialising Find talking lady red top, standing directly front poster hanging wall talking woman red, standing right front scientific research poster \n",
            "  praying rite find attending praying rite people church. show currently inside church, attending praying rite people. outside church inside church attending praying rite relevant. recall lifelog data touchscreen wall find looking lifelog data large touchscreen wall. show looking lifelog data touchscreen wall. touchscreen wall showed range colorful images time. at moments, talking people looking lifelog data touchscreen wall. looking touchscreen wall show colorful lifelog images relevant. looking colorful lifelog data desktop monitor relevant. bus work - bus home find getting bus office dublin city university going home bus. bus destination home workplace. waiting bus stop travelling public transportations destination home/workplace relevant. recall bus airport find getting bus aircraft landing deck airport. walking bus aircraft landing deck airport after. some possible include walking airplane walking bus parking aircraft landing deck. there would many airplanes visible. other bus airplanes outside/u1 airport bus visible/the bus aircraft landing deck relevant. recall medicine cabinet find looking inside medicine cabinet bathroom home. home, looking inside opening medicine cabinet beside mirror bathroom. looking inside medicine cabinet places (not home bathroom) looking closed medicine cabinet relevant. recall order food airport find ordering fast food airport airport ordering food. queuing order food relevant. eating fast food waiting collection food airport relevant recall seafood restaurant find eating seafood restaurant evening time show eating seafood restaurant evening time relevant. any dish seafood one parts relevant. some examples seafood shrimp, lobster, salmon. meeting people find roundtable meeting many people pink (not red) name-cards person show roundtable meeting many people, pink name-cards relevant. people meeting relevant recall eating pizza find eating pizza talking one man eat hold pizza man background. talking one person relevant socialising find talking lady red top, standing directly front poster hanging wall talking woman red, standing right front scientific research poster praying rite find attending praying rite people church. show currently inside church, attending praying rite people. outside church inside church attending praying rite relevant. recall lifelog data touchscreen wall find looking lifelog data large touchscreen wall. show looking lifelog data touchscreen wall. touchscreen wall showed range colorful images time. at moments, talking people looking lifelog data touchscreen wall. looking touchscreen wall show colorful lifelog images relevant. looking colorful lifelog data desktop monitor relevant. bus work - bus home find getting bus office dublin city university going home bus. bus destination home workplace. waiting bus stop travelling public transportations destination home/workplace relevant. recall bus airport find getting bus aircraft landing deck airport. walking bus aircraft landing deck airport after. some possible include walking airplane walking bus parking aircraft landing deck. there would many airplanes visible. other bus airplanes outside/u1 airport bus visible/the bus aircraft landing deck relevant. recall medicine cabinet find looking inside medicine cabinet bathroom home. home, looking inside opening medicine cabinet beside mirror bathroom. looking inside medicine cabinet places (not home bathroom) looking closed medicine cabinet relevant. recall order food airport find ordering fast food airport airport ordering food. queuing order food relevant. eating fast food waiting collection food airport relevant recall seafood restaurant find eating seafood restaurant evening time show eating seafood restaurant evening time relevant. any dish seafood one parts relevant. some examples seafood shrimp, lobster, salmon. meeting people find roundtable meeting many people pink (not red) name-cards person show roundtable meeting many people, pink name-cards relevant. people meeting relevant recall eating pizza find eating pizza talking one man eat hold pizza man background. talking one person relevant socialising find talking lady red top, standing directly front poster hanging wall talking woman red, standing right front scientific research poster \n"
          ],
          "name": "stdout"
        }
      ]
    },
    {
      "cell_type": "code",
      "metadata": {
        "colab": {
          "base_uri": "https://localhost:8080/"
        },
        "id": "wPLXExdfeFDk",
        "outputId": "5d4fa4b8-23d4-442c-a8eb-23d693cadabb"
      },
      "source": [
        ""
      ],
      "execution_count": null,
      "outputs": [
        {
          "output_type": "stream",
          "text": [
            "  praying rite find attending praying rite people church. show currently inside church, attending praying rite people. outside church inside church attending praying rite relevant. recall lifelog data touchscreen wall find looking lifelog data large touchscreen wall. show looking lifelog data touchscreen wall. touchscreen wall showed range colorful images time. at moments, talking people looking lifelog data touchscreen wall. looking touchscreen wall show colorful lifelog images relevant. looking colorful lifelog data desktop monitor relevant. bus work - bus home find getting bus office dublin city university going home bus. bus destination home workplace. waiting bus stop travelling public transportations destination home/workplace relevant. recall bus airport find getting bus aircraft landing deck airport. walking bus aircraft landing deck airport after. some possible include walking airplane walking bus parking aircraft landing deck. there would many airplanes visible. other bus airplanes outside/u1 airport bus visible/the bus aircraft landing deck relevant. recall medicine cabinet find looking inside medicine cabinet bathroom home. home, looking inside opening medicine cabinet beside mirror bathroom. looking inside medicine cabinet places (not home bathroom) looking closed medicine cabinet relevant. recall order food airport find ordering fast food airport airport ordering food. queuing order food relevant. eating fast food waiting collection food airport relevant recall seafood restaurant find eating seafood restaurant evening time show eating seafood restaurant evening time relevant. any dish seafood one parts relevant. some examples seafood shrimp, lobster, salmon. meeting people find roundtable meeting many people pink (not red) name-cards person show roundtable meeting many people, pink name-cards relevant. people meeting relevant recall eating pizza find eating pizza talking one man eat hold pizza man background. talking one person relevant socialising find talking lady red top, standing directly front poster hanging wall talking woman red, standing right front scientific research poster praying rite find attending praying rite people church. show currently inside church, attending praying rite people. outside church inside church attending praying rite relevant. recall lifelog data touchscreen wall find looking lifelog data large touchscreen wall. show looking lifelog data touchscreen wall. touchscreen wall showed range colorful images time. at moments, talking people looking lifelog data touchscreen wall. looking touchscreen wall show colorful lifelog images relevant. looking colorful lifelog data desktop monitor relevant. bus work - bus home find getting bus office dublin city university going home bus. bus destination home workplace. waiting bus stop travelling public transportations destination home/workplace relevant. recall bus airport find getting bus aircraft landing deck airport. walking bus aircraft landing deck airport after. some possible include walking airplane walking bus parking aircraft landing deck. there would many airplanes visible. other bus airplanes outside/u1 airport bus visible/the bus aircraft landing deck relevant. recall medicine cabinet find looking inside medicine cabinet bathroom home. home, looking inside opening medicine cabinet beside mirror bathroom. looking inside medicine cabinet places (not home bathroom) looking closed medicine cabinet relevant. recall order food airport find ordering fast food airport airport ordering food. queuing order food relevant. eating fast food waiting collection food airport relevant recall seafood restaurant find eating seafood restaurant evening time show eating seafood restaurant evening time relevant. any dish seafood one parts relevant. some examples seafood shrimp, lobster, salmon. meeting people find roundtable meeting many people pink (not red) name-cards person show roundtable meeting many people, pink name-cards relevant. people meeting relevant recall eating pizza find eating pizza talking one man eat hold pizza man background. talking one person relevant socialising find talking lady red top, standing directly front poster hanging wall talking woman red, standing right front scientific research poster  \n"
          ],
          "name": "stdout"
        }
      ]
    },
    {
      "cell_type": "code",
      "metadata": {
        "colab": {
          "base_uri": "https://localhost:8080/"
        },
        "id": "vHbQ-U3brSFr",
        "outputId": "ef474978-3518-4618-c8d3-3d3156efe2db"
      },
      "source": [
        "import re \n",
        "# remove parenthesis \n",
        "input_text_noparens = re.sub(r'\\([^)]*\\)', '', line)\n",
        "# store as list of sentences\n",
        "sentences_strings_ted = []\n",
        "for line in input_text_noparens.split('\\n'):\n",
        "    m = re.match(r'^(?:(?P<precolon>[^:]{,20}):)?(?P<postcolon>.*)$', line)\n",
        "    sentences_strings_ted.extend(sent for sent in m.groupdict()['postcolon'].split('.') if sent)\n",
        "# store as list of lists of words\n",
        "sentences_test = []\n",
        "for sent_str in sentences_strings_ted:\n",
        "    tokens = re.sub(r\"[^a-z0-9]+\", \" \", sent_str.lower()).split()\n",
        "    sentences_test.append(tokens)\n",
        "\n",
        "\n",
        "print(sentences_test)"
      ],
      "execution_count": null,
      "outputs": [
        {
          "output_type": "stream",
          "text": [
            "[['praying', 'rite', 'find', 'attending', 'praying', 'rite', 'people', 'church'], ['show', 'currently', 'inside', 'church', 'attending', 'praying', 'rite', 'people'], ['outside', 'church', 'inside', 'church', 'attending', 'praying', 'rite', 'relevant'], ['recall', 'lifelog', 'data', 'touchscreen', 'wall', 'find', 'looking', 'lifelog', 'data', 'large', 'touchscreen', 'wall'], ['show', 'looking', 'lifelog', 'data', 'touchscreen', 'wall'], ['touchscreen', 'wall', 'showed', 'range', 'colorful', 'images', 'time'], ['at', 'moments', 'talking', 'people', 'looking', 'lifelog', 'data', 'touchscreen', 'wall'], ['looking', 'touchscreen', 'wall', 'show', 'colorful', 'lifelog', 'images', 'relevant'], ['looking', 'colorful', 'lifelog', 'data', 'desktop', 'monitor', 'relevant'], ['bus', 'work', 'bus', 'home', 'find', 'getting', 'bus', 'office', 'dublin', 'city', 'university', 'going', 'home', 'bus'], ['bus', 'destination', 'home', 'workplace'], ['waiting', 'bus', 'stop', 'travelling', 'public', 'transportations', 'destination', 'home', 'workplace', 'relevant'], ['recall', 'bus', 'airport', 'find', 'getting', 'bus', 'aircraft', 'landing', 'deck', 'airport'], ['walking', 'bus', 'aircraft', 'landing', 'deck', 'airport', 'after'], ['some', 'possible', 'include', 'walking', 'airplane', 'walking', 'bus', 'parking', 'aircraft', 'landing', 'deck'], ['there', 'would', 'many', 'airplanes', 'visible'], ['other', 'bus', 'airplanes', 'outside', 'u1', 'airport', 'bus', 'visible', 'the', 'bus', 'aircraft', 'landing', 'deck', 'relevant'], ['recall', 'medicine', 'cabinet', 'find', 'looking', 'inside', 'medicine', 'cabinet', 'bathroom', 'home'], ['home', 'looking', 'inside', 'opening', 'medicine', 'cabinet', 'beside', 'mirror', 'bathroom'], ['looking', 'inside', 'medicine', 'cabinet', 'places', 'looking', 'closed', 'medicine', 'cabinet', 'relevant'], ['recall', 'order', 'food', 'airport', 'find', 'ordering', 'fast', 'food', 'airport', 'airport', 'ordering', 'food'], ['queuing', 'order', 'food', 'relevant'], ['eating', 'fast', 'food', 'waiting', 'collection', 'food', 'airport', 'relevant', 'recall', 'seafood', 'restaurant', 'find', 'eating', 'seafood', 'restaurant', 'evening', 'time', 'show', 'eating', 'seafood', 'restaurant', 'evening', 'time', 'relevant'], ['any', 'dish', 'seafood', 'one', 'parts', 'relevant'], ['some', 'examples', 'seafood', 'shrimp', 'lobster', 'salmon'], ['meeting', 'people', 'find', 'roundtable', 'meeting', 'many', 'people', 'pink', 'name', 'cards', 'person', 'show', 'roundtable', 'meeting', 'many', 'people', 'pink', 'name', 'cards', 'relevant'], ['people', 'meeting', 'relevant', 'recall', 'eating', 'pizza', 'find', 'eating', 'pizza', 'talking', 'one', 'man', 'eat', 'hold', 'pizza', 'man', 'background'], ['talking', 'one', 'person', 'relevant', 'socialising', 'find', 'talking', 'lady', 'red', 'top', 'standing', 'directly', 'front', 'poster', 'hanging', 'wall', 'talking', 'woman', 'red', 'standing', 'right', 'front', 'scientific', 'research', 'poster', 'praying', 'rite', 'find', 'attending', 'praying', 'rite', 'people', 'church'], ['show', 'currently', 'inside', 'church', 'attending', 'praying', 'rite', 'people'], ['outside', 'church', 'inside', 'church', 'attending', 'praying', 'rite', 'relevant'], ['recall', 'lifelog', 'data', 'touchscreen', 'wall', 'find', 'looking', 'lifelog', 'data', 'large', 'touchscreen', 'wall'], ['show', 'looking', 'lifelog', 'data', 'touchscreen', 'wall'], ['touchscreen', 'wall', 'showed', 'range', 'colorful', 'images', 'time'], ['at', 'moments', 'talking', 'people', 'looking', 'lifelog', 'data', 'touchscreen', 'wall'], ['looking', 'touchscreen', 'wall', 'show', 'colorful', 'lifelog', 'images', 'relevant'], ['looking', 'colorful', 'lifelog', 'data', 'desktop', 'monitor', 'relevant'], ['bus', 'work', 'bus', 'home', 'find', 'getting', 'bus', 'office', 'dublin', 'city', 'university', 'going', 'home', 'bus'], ['bus', 'destination', 'home', 'workplace'], ['waiting', 'bus', 'stop', 'travelling', 'public', 'transportations', 'destination', 'home', 'workplace', 'relevant'], ['recall', 'bus', 'airport', 'find', 'getting', 'bus', 'aircraft', 'landing', 'deck', 'airport'], ['walking', 'bus', 'aircraft', 'landing', 'deck', 'airport', 'after'], ['some', 'possible', 'include', 'walking', 'airplane', 'walking', 'bus', 'parking', 'aircraft', 'landing', 'deck'], ['there', 'would', 'many', 'airplanes', 'visible'], ['other', 'bus', 'airplanes', 'outside', 'u1', 'airport', 'bus', 'visible', 'the', 'bus', 'aircraft', 'landing', 'deck', 'relevant'], ['recall', 'medicine', 'cabinet', 'find', 'looking', 'inside', 'medicine', 'cabinet', 'bathroom', 'home'], ['home', 'looking', 'inside', 'opening', 'medicine', 'cabinet', 'beside', 'mirror', 'bathroom'], ['looking', 'inside', 'medicine', 'cabinet', 'places', 'looking', 'closed', 'medicine', 'cabinet', 'relevant'], ['recall', 'order', 'food', 'airport', 'find', 'ordering', 'fast', 'food', 'airport', 'airport', 'ordering', 'food'], ['queuing', 'order', 'food', 'relevant'], ['eating', 'fast', 'food', 'waiting', 'collection', 'food', 'airport', 'relevant', 'recall', 'seafood', 'restaurant', 'find', 'eating', 'seafood', 'restaurant', 'evening', 'time', 'show', 'eating', 'seafood', 'restaurant', 'evening', 'time', 'relevant'], ['any', 'dish', 'seafood', 'one', 'parts', 'relevant'], ['some', 'examples', 'seafood', 'shrimp', 'lobster', 'salmon'], ['meeting', 'people', 'find', 'roundtable', 'meeting', 'many', 'people', 'pink', 'name', 'cards', 'person', 'show', 'roundtable', 'meeting', 'many', 'people', 'pink', 'name', 'cards', 'relevant'], ['people', 'meeting', 'relevant', 'recall', 'eating', 'pizza', 'find', 'eating', 'pizza', 'talking', 'one', 'man', 'eat', 'hold', 'pizza', 'man', 'background'], ['talking', 'one', 'person', 'relevant', 'socialising', 'find', 'talking', 'lady', 'red', 'top', 'standing', 'directly', 'front', 'poster', 'hanging', 'wall', 'talking', 'woman', 'red', 'standing', 'right', 'front', 'scientific', 'research', 'poster']]\n"
          ],
          "name": "stdout"
        }
      ]
    },
    {
      "cell_type": "markdown",
      "metadata": {
        "id": "NQMW9VhNyKqs"
      },
      "source": [
        "#  GLOVE Model Evaluation"
      ]
    },
    {
      "cell_type": "code",
      "metadata": {
        "id": "EiaLjN7Fszxb"
      },
      "source": [
        "import itertools\n",
        "from glove import Glove\n",
        "import glove\n",
        "from glove import Corpus\n",
        "import numpy as np\n",
        "glove_corpus1= glove.Corpus()\n",
        "glove_corpus1.fit(sentences_test,window=10)\n",
        "mat=glove_corpus1.matrix\n",
        "dic=glove_corpus1.dictionary\n"
      ],
      "execution_count": null,
      "outputs": []
    },
    {
      "cell_type": "code",
      "metadata": {
        "id": "Gc8Wy7c0tKff"
      },
      "source": [
        "modelG=Glove.load('/content/drive/MyDrive/Colab Notebooks/PFA /glove20.model')"
      ],
      "execution_count": null,
      "outputs": []
    },
    {
      "cell_type": "code",
      "metadata": {
        "id": "a7mh5Qh7u4oD"
      },
      "source": [
        "modelG.add_dictionary(dic)"
      ],
      "execution_count": null,
      "outputs": []
    },
    {
      "cell_type": "markdown",
      "metadata": {
        "id": "DNZAz0K9vB1I"
      },
      "source": [
        "**Similarty test on the Test set**"
      ]
    },
    {
      "cell_type": "code",
      "metadata": {
        "colab": {
          "base_uri": "https://localhost:8080/"
        },
        "id": "iMje_hwcvH0S",
        "outputId": "04f416fb-0edd-4e99-fd1b-38ab527c183d"
      },
      "source": [
        "modelG.most_similar(\"church\")"
      ],
      "execution_count": null,
      "outputs": [
        {
          "output_type": "execute_result",
          "data": {
            "text/plain": [
              "[('find', 0.8784201243077132),\n",
              " ('rite', 0.8783179108391803),\n",
              " ('attending', 0.8732513788766736),\n",
              " ('people', 0.8216232450245964)]"
            ]
          },
          "metadata": {
            "tags": []
          },
          "execution_count": 532
        }
      ]
    },
    {
      "cell_type": "code",
      "metadata": {
        "colab": {
          "base_uri": "https://localhost:8080/"
        },
        "id": "3JmS-9OhvuaN",
        "outputId": "439a1466-4fc5-455c-c831-126a1062981e"
      },
      "source": [
        "modelG.most_similar(\"food\")"
      ],
      "execution_count": null,
      "outputs": [
        {
          "output_type": "execute_result",
          "data": {
            "text/plain": [
              "[('closed', 0.9460542732248661),\n",
              " ('order', 0.8788445870069251),\n",
              " ('shrimp', 0.8687981635256123),\n",
              " ('lobster', 0.8256451348654296)]"
            ]
          },
          "metadata": {
            "tags": []
          },
          "execution_count": 533
        }
      ]
    },
    {
      "cell_type": "code",
      "metadata": {
        "colab": {
          "base_uri": "https://localhost:8080/"
        },
        "id": "p5EipmGnv07d",
        "outputId": "e8579f0e-b5ba-4a8b-e3fb-46bbfb61b112"
      },
      "source": [
        "model.most_similar(\"office\")"
      ],
      "execution_count": null,
      "outputs": [
        {
          "output_type": "execute_result",
          "data": {
            "text/plain": [
              "[('pc', 0.9470012544262006),\n",
              " ('pcs', 0.6382280618150644),\n",
              " ('table', 0.4607262788243161),\n",
              " ('monster', 0.45425778332164934)]"
            ]
          },
          "metadata": {
            "tags": []
          },
          "execution_count": 534
        }
      ]
    },
    {
      "cell_type": "markdown",
      "metadata": {
        "id": "7G-iP_z4wEYv"
      },
      "source": [
        "**analogy test**"
      ]
    },
    {
      "cell_type": "code",
      "metadata": {
        "id": "AvEIx2UwwU-9"
      },
      "source": [
        "def get_embedding_vec(word):\n",
        "    idx = modelG.dictionary.get(word.lower(), -1)\n",
        "    if idx<0:\n",
        "        #print(\"Missing word : '%s'\" % (word,))\n",
        "        return np.zeros(  (100, ), dtype='float32')  # UNK\n",
        "    return modelG.word_vectors[idx]\n",
        "\n",
        "\n",
        "def get_closest_word(vec, number=5):\n",
        "    dst = (np.dot(modelG.word_vectors, vec)\n",
        "                   / np.linalg.norm(modelG.word_vectors, axis=1)\n",
        "                   / np.linalg.norm(vec))\n",
        "    word_ids = np.argsort(-dst)\n",
        "    return [(modelG.inverse_dictionary[x], dst[x]) for x in word_ids[:number]\n",
        "            if x in modelG.inverse_dictionary]\n"
      ],
      "execution_count": null,
      "outputs": []
    },
    {
      "cell_type": "code",
      "metadata": {
        "colab": {
          "base_uri": "https://localhost:8080/"
        },
        "id": "4vN7jcEJwDE6",
        "outputId": "7cd8de9c-6f9a-4807-cfce-238abd057052"
      },
      "source": [
        "analogy_vec = get_embedding_vec('praying') + get_embedding_vec('church')\n",
        "get_closest_word(analogy_vec)"
      ],
      "execution_count": null,
      "outputs": [
        {
          "output_type": "execute_result",
          "data": {
            "text/plain": [
              "[('church', 0.951421329341558),\n",
              " ('rite', 0.9455787989253294),\n",
              " ('find', 0.9375557911926237),\n",
              " ('attending', 0.8657413688770939),\n",
              " ('praying', 0.8353685292164819)]"
            ]
          },
          "metadata": {
            "tags": []
          },
          "execution_count": 536
        }
      ]
    },
    {
      "cell_type": "code",
      "metadata": {
        "id": "c4riW39DwZxc"
      },
      "source": [
        "def test_analogy(s='one two three '):\n",
        "    (a,b,c) = s.split(' ')\n",
        "    analogy_vec = get_embedding_vec(b) +get_embedding_vec(a) \n",
        "    words = [ w for (w,p) in get_closest_word(analogy_vec) if w not in (a,b)]\n",
        "    print(\"'%s' '%s'  in {%s}\" % (a,b,', '.join(words)))\n",
        "    "
      ],
      "execution_count": null,
      "outputs": []
    },
    {
      "cell_type": "code",
      "metadata": {
        "colab": {
          "base_uri": "https://localhost:8080/"
        },
        "id": "aP3JrsBUwb58",
        "outputId": "c85e3cef-897b-4904-9ef5-302dc28fc4cf"
      },
      "source": [
        "test_analogy('people praying in')"
      ],
      "execution_count": null,
      "outputs": [
        {
          "output_type": "stream",
          "text": [
            "'people' 'praying'  in {church, attending, rite, find}\n"
          ],
          "name": "stdout"
        }
      ]
    },
    {
      "cell_type": "markdown",
      "metadata": {
        "id": "8Gx1J8W-whHr"
      },
      "source": [
        "**Get Target words from test set**"
      ]
    },
    {
      "cell_type": "code",
      "metadata": {
        "id": "vB0b1GRiwfTT"
      },
      "source": [
        "def query_target_words(word1,word2):\n",
        "  target_list=[]\n",
        "  vec=get_embedding_vec(word1)+get_embedding_vec(word2)\n",
        "  res1=get_closest_word(vec)\n",
        "  target_list=[i  for i,j in res1 if(j>=0.51)]\n",
        "  print(target_list)"
      ],
      "execution_count": null,
      "outputs": []
    },
    {
      "cell_type": "code",
      "metadata": {
        "colab": {
          "base_uri": "https://localhost:8080/"
        },
        "id": "yxGczQHIw2YM",
        "outputId": "f5f8a0ed-10ec-4c3a-dd85-e603a2e306d8"
      },
      "source": [
        "print(\"******Query1******\")\n",
        "Query1=query_target_words('church','praying')\n",
        "print(\"******Query2******\")\n",
        "Query2=query_target_words('touchscreen','wall')\n",
        "print(\"******Query3******\")\n",
        "Query3=query_target_words('Bus','work')\n",
        "print(\"******Query4******\")\n",
        "Query4=query_target_words('Bus','airport')\n",
        "print(\"******Query5******\")\n",
        "Query5=query_target_words('medicine','bathroom')\n",
        "print(\"******Query6******\")\n",
        "Query6=query_target_words('food','airport')\n",
        "print(\"******Query7******\")\n",
        "Query7=query_target_words('Restaurant','seafood')\n",
        "print(\"******Query8******\")\n",
        "Query8=query_target_words('eating','pizza')\n",
        "print(\"******Query9******\")\n",
        "Query9=query_target_words('socialising','talking')\n",
        "print(\"******Query10******\")\n",
        "Query10=query_target_words('meeting','table')\n",
        "\n",
        "\n",
        "\n"
      ],
      "execution_count": null,
      "outputs": [
        {
          "output_type": "stream",
          "text": [
            "******Query1******\n",
            "['church', 'rite', 'find', 'attending', 'praying']\n",
            "******Query2******\n",
            "['wall', 'touchscreen']\n",
            "******Query3******\n",
            "['work', 'bus']\n",
            "******Query4******\n",
            "['airport', 'aircraft', 'bus']\n",
            "******Query5******\n",
            "['medicine', 'bathroom', 'opening', 'cabinet', 'salmon']\n",
            "******Query6******\n",
            "['food', 'closed', 'shrimp', 'order', 'lobster']\n",
            "******Query7******\n",
            "['restaurant', 'evening']\n",
            "******Query8******\n",
            "['collection', 'eating', 'queuing']\n",
            "******Query9******\n",
            "['socialising', 'any', 'other', 'ordering', 'deck']\n",
            "******Query10******\n",
            "['meeting', 'order', 'closed', 'places', 'food']\n"
          ],
          "name": "stdout"
        }
      ]
    },
    {
      "cell_type": "code",
      "metadata": {
        "colab": {
          "base_uri": "https://localhost:8080/",
          "height": 592
        },
        "id": "_zvmf8Mcx4T_",
        "outputId": "fffa01d4-028f-432b-c8a9-eb3a8a58b82a"
      },
      "source": [
        "import matplotlib.pyplot as plt\n",
        "from sklearn.manifold import TSNE\n",
        "tsne = TSNE(perplexity=30,n_components=2, random_state=23, init='pca',n_iter=2500)\n",
        "words=modelG.dictionary.keys()\n",
        "\n",
        "vectors=[get_embedding_vec(word)for word in words]\n",
        "\n",
        "Y = tsne.fit_transform(vectors[:1000])\n",
        "plt.figure(figsize=(10, 10)) \n",
        "plt.scatter(Y[:, 0], Y[:, 1])\n",
        "\n",
        "for label, x, y in zip(words, Y[:, 0], Y[:, 1]):\n",
        "    plt.annotate(label, xy=(x, y),    xytext=(5, 2), textcoords=\"offset points\",ha='right',\n",
        "                     va='bottom')\n",
        "\n",
        "plt.show()"
      ],
      "execution_count": null,
      "outputs": [
        {
          "output_type": "display_data",
          "data": {
            "image/png": "[encoded data removed]",
            "text/plain": [
              "<Figure size 720x720 with 1 Axes>"
            ]
          },
          "metadata": {
            "tags": [],
            "needs_background": "light"
          }
        }
      ]
    },
    {
      "cell_type": "markdown",
      "metadata": {
        "id": "o_WSYcvwycy7"
      },
      "source": [
        "# Word2Vec Model Evaluation"
      ]
    },
    {
      "cell_type": "code",
      "metadata": {
        "id": "p7KuSWogx-Vr"
      },
      "source": [
        "modelV = Word2Vec.load('/content/drive/MyDrive/Colab Notebooks/PFA /word2vec2_model')"
      ],
      "execution_count": null,
      "outputs": []
    },
    {
      "cell_type": "code",
      "metadata": {
        "id": "BEiOwbt87tPX"
      },
      "source": [
        "#Update vocab of the Word2Vec Model\n",
        "modelV.build_vocab(sentences_test,update=1)"
      ],
      "execution_count": null,
      "outputs": []
    },
    {
      "cell_type": "markdown",
      "metadata": {
        "id": "P9ok6Z8W7N8A"
      },
      "source": [
        "**Similarty test on the Test set**"
      ]
    },
    {
      "cell_type": "code",
      "metadata": {
        "colab": {
          "base_uri": "https://localhost:8080/"
        },
        "id": "Suc-qM2P-dUg",
        "outputId": "ca676565-8ede-4de7-c7dd-d068b89531c7"
      },
      "source": [
        "modelV.most_similar('church')"
      ],
      "execution_count": null,
      "outputs": [
        {
          "output_type": "stream",
          "text": [
            "/usr/local/lib/python3.6/dist-packages/ipykernel_launcher.py:1: DeprecationWarning: Call to deprecated `most_similar` (Method will be removed in 4.0.0, use self.wv.most_similar() instead).\n",
            "  \"\"\"Entry point for launching an IPython kernel.\n",
            "/usr/local/lib/python3.6/dist-packages/gensim/matutils.py:737: FutureWarning: Conversion of the second argument of issubdtype from `int` to `np.signedinteger` is deprecated. In future, it will be treated as `np.int64 == np.dtype(int).type`.\n",
            "  if np.issubdtype(vec.dtype, np.int):\n"
          ],
          "name": "stderr"
        },
        {
          "output_type": "execute_result",
          "data": {
            "text/plain": [
              "[('food', 0.1847798228263855),\n",
              " ('getting', 0.16241644322872162),\n",
              " ('lobster', 0.16217221319675446),\n",
              " ('include', 0.1618250608444214),\n",
              " ('research', 0.14455053210258484),\n",
              " ('currently', 0.1376357078552246),\n",
              " ('workplace', 0.13233643770217896),\n",
              " ('eat', 0.11242072284221649),\n",
              " ('going', 0.111134372651577),\n",
              " ('collection', 0.11061015725135803)]"
            ]
          },
          "metadata": {
            "tags": []
          },
          "execution_count": 548
        }
      ]
    },
    {
      "cell_type": "code",
      "metadata": {
        "colab": {
          "base_uri": "https://localhost:8080/"
        },
        "id": "nXQTvcKn-oC2",
        "outputId": "8f78716b-9039-4011-9874-d45ff3a8101e"
      },
      "source": [
        "modelV.most_similar('food')"
      ],
      "execution_count": null,
      "outputs": [
        {
          "output_type": "stream",
          "text": [
            "/usr/local/lib/python3.6/dist-packages/ipykernel_launcher.py:1: DeprecationWarning: Call to deprecated `most_similar` (Method will be removed in 4.0.0, use self.wv.most_similar() instead).\n",
            "  \"\"\"Entry point for launching an IPython kernel.\n",
            "/usr/local/lib/python3.6/dist-packages/gensim/matutils.py:737: FutureWarning: Conversion of the second argument of issubdtype from `int` to `np.signedinteger` is deprecated. In future, it will be treated as `np.int64 == np.dtype(int).type`.\n",
            "  if np.issubdtype(vec.dtype, np.int):\n"
          ],
          "name": "stderr"
        },
        {
          "output_type": "execute_result",
          "data": {
            "text/plain": [
              "[('touchscreen', 0.27329927682876587),\n",
              " ('large', 0.26209914684295654),\n",
              " ('parking', 0.22534936666488647),\n",
              " ('pink', 0.21821384131908417),\n",
              " ('church', 0.1847798228263855),\n",
              " ('include', 0.16390056908130646),\n",
              " ('relevant', 0.1580532342195511),\n",
              " ('salmon', 0.1500328630208969),\n",
              " ('other', 0.1450793743133545),\n",
              " ('images', 0.13942895829677582)]"
            ]
          },
          "metadata": {
            "tags": []
          },
          "execution_count": 549
        }
      ]
    },
    {
      "cell_type": "code",
      "metadata": {
        "colab": {
          "base_uri": "https://localhost:8080/"
        },
        "id": "VrcPErfc-q8Z",
        "outputId": "5549f5f2-b424-43b2-bcc8-6516390d3376"
      },
      "source": [
        "modelV.most_similar('office')"
      ],
      "execution_count": null,
      "outputs": [
        {
          "output_type": "stream",
          "text": [
            "/usr/local/lib/python3.6/dist-packages/ipykernel_launcher.py:1: DeprecationWarning: Call to deprecated `most_similar` (Method will be removed in 4.0.0, use self.wv.most_similar() instead).\n",
            "  \"\"\"Entry point for launching an IPython kernel.\n",
            "/usr/local/lib/python3.6/dist-packages/gensim/matutils.py:737: FutureWarning: Conversion of the second argument of issubdtype from `int` to `np.signedinteger` is deprecated. In future, it will be treated as `np.int64 == np.dtype(int).type`.\n",
            "  if np.issubdtype(vec.dtype, np.int):\n"
          ],
          "name": "stderr"
        },
        {
          "output_type": "execute_result",
          "data": {
            "text/plain": [
              "[('items', 0.9993467330932617),\n",
              " ('table', 0.9992483258247375),\n",
              " ('shop', 0.9992110729217529),\n",
              " ('pc', 0.999177098274231),\n",
              " ('toyshop', 0.9991763830184937),\n",
              " ('pcs', 0.9991240501403809),\n",
              " ('a', 0.9990890026092529),\n",
              " ('parts', 0.9988671541213989),\n",
              " ('toy', 0.9988664984703064),\n",
              " ('looking', 0.9987508654594421)]"
            ]
          },
          "metadata": {
            "tags": []
          },
          "execution_count": 550
        }
      ]
    },
    {
      "cell_type": "markdown",
      "metadata": {
        "id": "KEFqV0c4OUge"
      },
      "source": [
        "# FastText Model Evaluation"
      ]
    },
    {
      "cell_type": "code",
      "metadata": {
        "id": "4TQs55AK-2pi"
      },
      "source": [
        "modelF = FastText.load('/content/drive/MyDrive/Colab Notebooks/PFA /word2vec2_model')"
      ],
      "execution_count": null,
      "outputs": []
    },
    {
      "cell_type": "code",
      "metadata": {
        "id": "rVPpwzjBOsEK"
      },
      "source": [
        "#Update vocab of the Word2Vec Model\n",
        "modelF.build_vocab(sentences_test,update=1)"
      ],
      "execution_count": null,
      "outputs": []
    },
    {
      "cell_type": "markdown",
      "metadata": {
        "id": "oBQC0ES3OvKZ"
      },
      "source": [
        "**Similarty test on the Test set**"
      ]
    },
    {
      "cell_type": "code",
      "metadata": {
        "colab": {
          "base_uri": "https://localhost:8080/"
        },
        "id": "Sm_DhWTrO1G3",
        "outputId": "56770260-a2df-4f9b-b25e-33908a8a48b6"
      },
      "source": [
        "modelF.most_similar('church')"
      ],
      "execution_count": null,
      "outputs": [
        {
          "output_type": "stream",
          "text": [
            "/usr/local/lib/python3.6/dist-packages/ipykernel_launcher.py:1: DeprecationWarning: Call to deprecated `most_similar` (Method will be removed in 4.0.0, use self.wv.most_similar() instead).\n",
            "  \"\"\"Entry point for launching an IPython kernel.\n",
            "/usr/local/lib/python3.6/dist-packages/gensim/matutils.py:737: FutureWarning: Conversion of the second argument of issubdtype from `int` to `np.signedinteger` is deprecated. In future, it will be treated as `np.int64 == np.dtype(int).type`.\n",
            "  if np.issubdtype(vec.dtype, np.int):\n"
          ],
          "name": "stderr"
        },
        {
          "output_type": "execute_result",
          "data": {
            "text/plain": [
              "[('food', 0.1847798228263855),\n",
              " ('getting', 0.16241644322872162),\n",
              " ('lobster', 0.16217221319675446),\n",
              " ('include', 0.1618250608444214),\n",
              " ('research', 0.14455053210258484),\n",
              " ('currently', 0.1376357078552246),\n",
              " ('workplace', 0.13233643770217896),\n",
              " ('eat', 0.11242072284221649),\n",
              " ('going', 0.111134372651577),\n",
              " ('collection', 0.11061015725135803)]"
            ]
          },
          "metadata": {
            "tags": []
          },
          "execution_count": 558
        }
      ]
    },
    {
      "cell_type": "code",
      "metadata": {
        "colab": {
          "base_uri": "https://localhost:8080/"
        },
        "id": "b7u-pLKTO6WU",
        "outputId": "6975b435-b88e-4dc1-e77b-14c2a9ae530a"
      },
      "source": [
        "modelF.most_similar('food')"
      ],
      "execution_count": null,
      "outputs": [
        {
          "output_type": "stream",
          "text": [
            "/usr/local/lib/python3.6/dist-packages/ipykernel_launcher.py:1: DeprecationWarning: Call to deprecated `most_similar` (Method will be removed in 4.0.0, use self.wv.most_similar() instead).\n",
            "  \"\"\"Entry point for launching an IPython kernel.\n",
            "/usr/local/lib/python3.6/dist-packages/gensim/matutils.py:737: FutureWarning: Conversion of the second argument of issubdtype from `int` to `np.signedinteger` is deprecated. In future, it will be treated as `np.int64 == np.dtype(int).type`.\n",
            "  if np.issubdtype(vec.dtype, np.int):\n"
          ],
          "name": "stderr"
        },
        {
          "output_type": "execute_result",
          "data": {
            "text/plain": [
              "[('touchscreen', 0.27329927682876587),\n",
              " ('large', 0.26209914684295654),\n",
              " ('parking', 0.22534936666488647),\n",
              " ('pink', 0.21821384131908417),\n",
              " ('church', 0.1847798228263855),\n",
              " ('include', 0.16390056908130646),\n",
              " ('relevant', 0.1580532342195511),\n",
              " ('salmon', 0.1500328630208969),\n",
              " ('other', 0.1450793743133545),\n",
              " ('images', 0.13942895829677582)]"
            ]
          },
          "metadata": {
            "tags": []
          },
          "execution_count": 559
        }
      ]
    },
    {
      "cell_type": "code",
      "metadata": {
        "colab": {
          "base_uri": "https://localhost:8080/"
        },
        "id": "J7I1eksFPFo3",
        "outputId": "f078d5b7-6025-43b3-affa-63e3fb5d6eaa"
      },
      "source": [
        "modelF.most_similar('office')"
      ],
      "execution_count": null,
      "outputs": [
        {
          "output_type": "stream",
          "text": [
            "/usr/local/lib/python3.6/dist-packages/ipykernel_launcher.py:1: DeprecationWarning: Call to deprecated `most_similar` (Method will be removed in 4.0.0, use self.wv.most_similar() instead).\n",
            "  \"\"\"Entry point for launching an IPython kernel.\n",
            "/usr/local/lib/python3.6/dist-packages/gensim/matutils.py:737: FutureWarning: Conversion of the second argument of issubdtype from `int` to `np.signedinteger` is deprecated. In future, it will be treated as `np.int64 == np.dtype(int).type`.\n",
            "  if np.issubdtype(vec.dtype, np.int):\n"
          ],
          "name": "stderr"
        },
        {
          "output_type": "execute_result",
          "data": {
            "text/plain": [
              "[('items', 0.9993467330932617),\n",
              " ('table', 0.9992483258247375),\n",
              " ('shop', 0.9992110729217529),\n",
              " ('pc', 0.999177098274231),\n",
              " ('toyshop', 0.9991763830184937),\n",
              " ('pcs', 0.9991240501403809),\n",
              " ('a', 0.9990890026092529),\n",
              " ('parts', 0.9988671541213989),\n",
              " ('toy', 0.9988664984703064),\n",
              " ('looking', 0.9987508654594421)]"
            ]
          },
          "metadata": {
            "tags": []
          },
          "execution_count": 555
        }
      ]
    },
    {
      "cell_type": "markdown",
      "metadata": {
        "id": "W-MpqP3BPhv2"
      },
      "source": [
        "According to the similarity test results, we understand that the Word2Vec and FastText models can’t generate new queries of the test set. So this model can't create a semantic relationship not suitable for the main objective. So in the evaluation results, the Glove showed a better performance than Word2Vec and fastText. The Glove model built from scratch gives a weak similarity score."
      ]
    }
  ]
}